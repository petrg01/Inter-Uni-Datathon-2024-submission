{
 "cells": [
  {
   "cell_type": "code",
   "execution_count": 383,
   "metadata": {},
   "outputs": [],
   "source": [
    "import pandas as pd\n",
    "import seaborn as sns"
   ]
  },
  {
   "cell_type": "code",
   "execution_count": 384,
   "metadata": {},
   "outputs": [
    {
     "data": {
      "text/html": [
       "<div>\n",
       "<style scoped>\n",
       "    .dataframe tbody tr th:only-of-type {\n",
       "        vertical-align: middle;\n",
       "    }\n",
       "\n",
       "    .dataframe tbody tr th {\n",
       "        vertical-align: top;\n",
       "    }\n",
       "\n",
       "    .dataframe thead th {\n",
       "        text-align: right;\n",
       "    }\n",
       "</style>\n",
       "<table border=\"1\" class=\"dataframe\">\n",
       "  <thead>\n",
       "    <tr style=\"text-align: right;\">\n",
       "      <th></th>\n",
       "      <th>TransactionNumber</th>\n",
       "      <th>UserID</th>\n",
       "      <th>Age</th>\n",
       "      <th>Gender</th>\n",
       "      <th>Occupation</th>\n",
       "      <th>EducationLevel</th>\n",
       "      <th>MaritalStatus</th>\n",
       "      <th>NumDependents</th>\n",
       "      <th>Income</th>\n",
       "      <th>Expenditure</th>\n",
       "      <th>GiftsTransaction</th>\n",
       "      <th>TransactionDate</th>\n",
       "      <th>TransactionTime</th>\n",
       "      <th>TransactionAmount</th>\n",
       "      <th>MerchantID</th>\n",
       "      <th>TransactionType</th>\n",
       "      <th>TransactionLocation</th>\n",
       "      <th>DeviceType</th>\n",
       "      <th>Latitude</th>\n",
       "      <th>Longitude</th>\n",
       "      <th>EmailDomain</th>\n",
       "      <th>Terrorism</th>\n",
       "      <th>UserTenure</th>\n",
       "      <th>IsFraud</th>\n",
       "    </tr>\n",
       "  </thead>\n",
       "  <tbody>\n",
       "    <tr>\n",
       "      <th>0</th>\n",
       "      <td>8765</td>\n",
       "      <td>70</td>\n",
       "      <td>37</td>\n",
       "      <td>Female</td>\n",
       "      <td>Professional</td>\n",
       "      <td>Bachelor</td>\n",
       "      <td>Widowed</td>\n",
       "      <td>3</td>\n",
       "      <td>28884.43 AUD</td>\n",
       "      <td>14610.61 AUD</td>\n",
       "      <td>£ 1050.01</td>\n",
       "      <td>2023-03-12</td>\n",
       "      <td>12:25:57</td>\n",
       "      <td>AU$ 258.14</td>\n",
       "      <td>M006</td>\n",
       "      <td>Withdrawal</td>\n",
       "      <td>Adelaide</td>\n",
       "      <td>Mobile</td>\n",
       "      <td>-31.840233</td>\n",
       "      <td>145.612793</td>\n",
       "      <td>jon44@disposable.com</td>\n",
       "      <td>False</td>\n",
       "      <td>113</td>\n",
       "      <td>1</td>\n",
       "    </tr>\n",
       "    <tr>\n",
       "      <th>1</th>\n",
       "      <td>9645</td>\n",
       "      <td>3386</td>\n",
       "      <td>34</td>\n",
       "      <td>Male</td>\n",
       "      <td>Student</td>\n",
       "      <td>High School</td>\n",
       "      <td>Married</td>\n",
       "      <td>4</td>\n",
       "      <td>AU$ 54919.07</td>\n",
       "      <td>39169.49 AUD</td>\n",
       "      <td>£ 4969.71</td>\n",
       "      <td>2023-03-05</td>\n",
       "      <td>18:27:24</td>\n",
       "      <td>34.94 AUD</td>\n",
       "      <td>M002</td>\n",
       "      <td>Withdrawal</td>\n",
       "      <td>Canberra</td>\n",
       "      <td>Mobile</td>\n",
       "      <td>-37.020100</td>\n",
       "      <td>144.964600</td>\n",
       "      <td>emilyreese@gmail.com</td>\n",
       "      <td>False</td>\n",
       "      <td>104</td>\n",
       "      <td>1</td>\n",
       "    </tr>\n",
       "    <tr>\n",
       "      <th>2</th>\n",
       "      <td>1145</td>\n",
       "      <td>2971</td>\n",
       "      <td>25</td>\n",
       "      <td>Male</td>\n",
       "      <td>Unemployed</td>\n",
       "      <td>Master</td>\n",
       "      <td>Married</td>\n",
       "      <td>2</td>\n",
       "      <td>AU$ 74728.57</td>\n",
       "      <td>55873.76 AUD</td>\n",
       "      <td>£ 1149.85</td>\n",
       "      <td>2023-11-10</td>\n",
       "      <td>17:16:56</td>\n",
       "      <td>AU$ 323.82</td>\n",
       "      <td>M008</td>\n",
       "      <td>Purchase</td>\n",
       "      <td>Brisbane</td>\n",
       "      <td>Mobile</td>\n",
       "      <td>-31.840233</td>\n",
       "      <td>145.612793</td>\n",
       "      <td>fordevan@gmail.com</td>\n",
       "      <td>False</td>\n",
       "      <td>105</td>\n",
       "      <td>0</td>\n",
       "    </tr>\n",
       "    <tr>\n",
       "      <th>3</th>\n",
       "      <td>15308</td>\n",
       "      <td>2925</td>\n",
       "      <td>25</td>\n",
       "      <td>Male</td>\n",
       "      <td>Professional</td>\n",
       "      <td>High School</td>\n",
       "      <td>Married</td>\n",
       "      <td>3</td>\n",
       "      <td>AU$ 55712.62</td>\n",
       "      <td>AED 89649.04</td>\n",
       "      <td>AU$ 4335.7</td>\n",
       "      <td>2023-10-07</td>\n",
       "      <td>00/34/17</td>\n",
       "      <td>AED 32.49</td>\n",
       "      <td>M001</td>\n",
       "      <td>Purchase</td>\n",
       "      <td>Darwin</td>\n",
       "      <td>iphone 15</td>\n",
       "      <td>-37.020100</td>\n",
       "      <td>144.964600</td>\n",
       "      <td>kathleenlewis@tempmail.com</td>\n",
       "      <td>False</td>\n",
       "      <td>70</td>\n",
       "      <td>1</td>\n",
       "    </tr>\n",
       "    <tr>\n",
       "      <th>4</th>\n",
       "      <td>14967</td>\n",
       "      <td>2339</td>\n",
       "      <td>38</td>\n",
       "      <td>Male</td>\n",
       "      <td>Professional</td>\n",
       "      <td>High School</td>\n",
       "      <td>Single</td>\n",
       "      <td>4</td>\n",
       "      <td>53004.7 AUD</td>\n",
       "      <td>AED 43601.02</td>\n",
       "      <td>4763.48 AUD</td>\n",
       "      <td>2023-09-22</td>\n",
       "      <td>06:40:08 PM</td>\n",
       "      <td>1140.75 AED</td>\n",
       "      <td>M001</td>\n",
       "      <td>Withdrawal</td>\n",
       "      <td>MLB</td>\n",
       "      <td>Tablet</td>\n",
       "      <td>-37.020100</td>\n",
       "      <td>144.964600</td>\n",
       "      <td>kristinawhite@gmail.com</td>\n",
       "      <td>False</td>\n",
       "      <td>27</td>\n",
       "      <td>0</td>\n",
       "    </tr>\n",
       "  </tbody>\n",
       "</table>\n",
       "</div>"
      ],
      "text/plain": [
       "   TransactionNumber  UserID  Age  Gender    Occupation EducationLevel  \\\n",
       "0               8765      70   37  Female  Professional       Bachelor   \n",
       "1               9645    3386   34    Male       Student    High School   \n",
       "2               1145    2971   25    Male    Unemployed         Master   \n",
       "3              15308    2925   25    Male  Professional    High School   \n",
       "4              14967    2339   38    Male  Professional    High School   \n",
       "\n",
       "  MaritalStatus  NumDependents        Income   Expenditure GiftsTransaction  \\\n",
       "0       Widowed              3  28884.43 AUD  14610.61 AUD        £ 1050.01   \n",
       "1       Married              4  AU$ 54919.07  39169.49 AUD        £ 4969.71   \n",
       "2       Married              2  AU$ 74728.57  55873.76 AUD        £ 1149.85   \n",
       "3       Married              3  AU$ 55712.62  AED 89649.04       AU$ 4335.7   \n",
       "4        Single              4   53004.7 AUD  AED 43601.02      4763.48 AUD   \n",
       "\n",
       "  TransactionDate TransactionTime TransactionAmount MerchantID  \\\n",
       "0      2023-03-12        12:25:57        AU$ 258.14       M006   \n",
       "1      2023-03-05        18:27:24         34.94 AUD       M002   \n",
       "2      2023-11-10        17:16:56        AU$ 323.82       M008   \n",
       "3      2023-10-07        00/34/17         AED 32.49       M001   \n",
       "4      2023-09-22     06:40:08 PM       1140.75 AED       M001   \n",
       "\n",
       "  TransactionType TransactionLocation DeviceType   Latitude   Longitude  \\\n",
       "0      Withdrawal            Adelaide     Mobile -31.840233  145.612793   \n",
       "1      Withdrawal            Canberra     Mobile -37.020100  144.964600   \n",
       "2        Purchase            Brisbane     Mobile -31.840233  145.612793   \n",
       "3        Purchase              Darwin  iphone 15 -37.020100  144.964600   \n",
       "4      Withdrawal                 MLB     Tablet -37.020100  144.964600   \n",
       "\n",
       "                  EmailDomain  Terrorism  UserTenure  IsFraud  \n",
       "0        jon44@disposable.com      False         113        1  \n",
       "1        emilyreese@gmail.com      False         104        1  \n",
       "2          fordevan@gmail.com      False         105        0  \n",
       "3  kathleenlewis@tempmail.com      False          70        1  \n",
       "4     kristinawhite@gmail.com      False          27        0  "
      ]
     },
     "execution_count": 384,
     "metadata": {},
     "output_type": "execute_result"
    }
   ],
   "source": [
    "df = pd.read_csv('data/train.csv')\n",
    "pd.options.display.max_columns = None\n",
    "df.head()"
   ]
  },
  {
   "cell_type": "code",
   "execution_count": 385,
   "metadata": {},
   "outputs": [
    {
     "data": {
      "text/html": [
       "<div>\n",
       "<style scoped>\n",
       "    .dataframe tbody tr th:only-of-type {\n",
       "        vertical-align: middle;\n",
       "    }\n",
       "\n",
       "    .dataframe tbody tr th {\n",
       "        vertical-align: top;\n",
       "    }\n",
       "\n",
       "    .dataframe thead th {\n",
       "        text-align: right;\n",
       "    }\n",
       "</style>\n",
       "<table border=\"1\" class=\"dataframe\">\n",
       "  <thead>\n",
       "    <tr style=\"text-align: right;\">\n",
       "      <th></th>\n",
       "      <th>TransactionNumber</th>\n",
       "      <th>UserID</th>\n",
       "      <th>Age</th>\n",
       "      <th>NumDependents</th>\n",
       "      <th>Latitude</th>\n",
       "      <th>Longitude</th>\n",
       "      <th>UserTenure</th>\n",
       "      <th>IsFraud</th>\n",
       "    </tr>\n",
       "  </thead>\n",
       "  <tbody>\n",
       "    <tr>\n",
       "      <th>count</th>\n",
       "      <td>10966.000000</td>\n",
       "      <td>10966.000000</td>\n",
       "      <td>10966.000000</td>\n",
       "      <td>10966.000000</td>\n",
       "      <td>10923.000000</td>\n",
       "      <td>10923.000000</td>\n",
       "      <td>10966.000000</td>\n",
       "      <td>10966.000000</td>\n",
       "    </tr>\n",
       "    <tr>\n",
       "      <th>mean</th>\n",
       "      <td>9117.500091</td>\n",
       "      <td>2483.885282</td>\n",
       "      <td>2751.845887</td>\n",
       "      <td>1.995714</td>\n",
       "      <td>-30.363255</td>\n",
       "      <td>141.254786</td>\n",
       "      <td>60.786157</td>\n",
       "      <td>0.364308</td>\n",
       "    </tr>\n",
       "    <tr>\n",
       "      <th>std</th>\n",
       "      <td>5293.669640</td>\n",
       "      <td>1429.402615</td>\n",
       "      <td>9730.988917</td>\n",
       "      <td>1.408035</td>\n",
       "      <td>6.962819</td>\n",
       "      <td>11.268395</td>\n",
       "      <td>34.254477</td>\n",
       "      <td>0.481257</td>\n",
       "    </tr>\n",
       "    <tr>\n",
       "      <th>min</th>\n",
       "      <td>1.000000</td>\n",
       "      <td>1.000000</td>\n",
       "      <td>-68.000000</td>\n",
       "      <td>0.000000</td>\n",
       "      <td>-41.640079</td>\n",
       "      <td>-112.026050</td>\n",
       "      <td>1.000000</td>\n",
       "      <td>0.000000</td>\n",
       "    </tr>\n",
       "    <tr>\n",
       "      <th>25%</th>\n",
       "      <td>4516.250000</td>\n",
       "      <td>1253.000000</td>\n",
       "      <td>26.000000</td>\n",
       "      <td>1.000000</td>\n",
       "      <td>-37.020100</td>\n",
       "      <td>142.702789</td>\n",
       "      <td>31.000000</td>\n",
       "      <td>0.000000</td>\n",
       "    </tr>\n",
       "    <tr>\n",
       "      <th>50%</th>\n",
       "      <td>9120.500000</td>\n",
       "      <td>2471.000000</td>\n",
       "      <td>34.000000</td>\n",
       "      <td>2.000000</td>\n",
       "      <td>-31.840233</td>\n",
       "      <td>144.964600</td>\n",
       "      <td>61.000000</td>\n",
       "      <td>0.000000</td>\n",
       "    </tr>\n",
       "    <tr>\n",
       "      <th>75%</th>\n",
       "      <td>13710.750000</td>\n",
       "      <td>3727.000000</td>\n",
       "      <td>43.000000</td>\n",
       "      <td>3.000000</td>\n",
       "      <td>-25.042261</td>\n",
       "      <td>145.612793</td>\n",
       "      <td>90.000000</td>\n",
       "      <td>1.000000</td>\n",
       "    </tr>\n",
       "    <tr>\n",
       "      <th>max</th>\n",
       "      <td>18277.000000</td>\n",
       "      <td>5000.000000</td>\n",
       "      <td>67000.000000</td>\n",
       "      <td>4.000000</td>\n",
       "      <td>57.851580</td>\n",
       "      <td>149.012375</td>\n",
       "      <td>119.000000</td>\n",
       "      <td>1.000000</td>\n",
       "    </tr>\n",
       "  </tbody>\n",
       "</table>\n",
       "</div>"
      ],
      "text/plain": [
       "       TransactionNumber        UserID           Age  NumDependents  \\\n",
       "count       10966.000000  10966.000000  10966.000000   10966.000000   \n",
       "mean         9117.500091   2483.885282   2751.845887       1.995714   \n",
       "std          5293.669640   1429.402615   9730.988917       1.408035   \n",
       "min             1.000000      1.000000    -68.000000       0.000000   \n",
       "25%          4516.250000   1253.000000     26.000000       1.000000   \n",
       "50%          9120.500000   2471.000000     34.000000       2.000000   \n",
       "75%         13710.750000   3727.000000     43.000000       3.000000   \n",
       "max         18277.000000   5000.000000  67000.000000       4.000000   \n",
       "\n",
       "           Latitude     Longitude    UserTenure       IsFraud  \n",
       "count  10923.000000  10923.000000  10966.000000  10966.000000  \n",
       "mean     -30.363255    141.254786     60.786157      0.364308  \n",
       "std        6.962819     11.268395     34.254477      0.481257  \n",
       "min      -41.640079   -112.026050      1.000000      0.000000  \n",
       "25%      -37.020100    142.702789     31.000000      0.000000  \n",
       "50%      -31.840233    144.964600     61.000000      0.000000  \n",
       "75%      -25.042261    145.612793     90.000000      1.000000  \n",
       "max       57.851580    149.012375    119.000000      1.000000  "
      ]
     },
     "execution_count": 385,
     "metadata": {},
     "output_type": "execute_result"
    }
   ],
   "source": [
    "df.describe()"
   ]
  },
  {
   "cell_type": "code",
   "execution_count": 386,
   "metadata": {},
   "outputs": [
    {
     "data": {
      "text/plain": [
       "TransactionNumber       0\n",
       "UserID                  0\n",
       "Age                     0\n",
       "Gender                  0\n",
       "Occupation              0\n",
       "EducationLevel          0\n",
       "MaritalStatus           0\n",
       "NumDependents           0\n",
       "Income                  0\n",
       "Expenditure             0\n",
       "GiftsTransaction        0\n",
       "TransactionDate         0\n",
       "TransactionTime         0\n",
       "TransactionAmount       0\n",
       "MerchantID              0\n",
       "TransactionType         0\n",
       "TransactionLocation     0\n",
       "DeviceType              0\n",
       "Latitude               43\n",
       "Longitude              43\n",
       "EmailDomain             0\n",
       "Terrorism               0\n",
       "UserTenure              0\n",
       "IsFraud                 0\n",
       "dtype: int64"
      ]
     },
     "execution_count": 386,
     "metadata": {},
     "output_type": "execute_result"
    }
   ],
   "source": [
    "df.isna().sum() # Only coordinates are missing"
   ]
  },
  {
   "cell_type": "code",
   "execution_count": 387,
   "metadata": {},
   "outputs": [],
   "source": [
    "df = df.dropna()"
   ]
  },
  {
   "cell_type": "code",
   "execution_count": 388,
   "metadata": {},
   "outputs": [
    {
     "data": {
      "text/plain": [
       "0         8765\n",
       "1         9645\n",
       "2         1145\n",
       "3        15308\n",
       "4        14967\n",
       "         ...  \n",
       "10961    11284\n",
       "10962    11964\n",
       "10963     5390\n",
       "10964      860\n",
       "10965    15795\n",
       "Name: TransactionNumber, Length: 10923, dtype: int64"
      ]
     },
     "execution_count": 388,
     "metadata": {},
     "output_type": "execute_result"
    }
   ],
   "source": [
    "# TransactionNubmber\n",
    "\n",
    "df.TransactionNumber # Integer, no negative values"
   ]
  },
  {
   "cell_type": "code",
   "execution_count": 389,
   "metadata": {},
   "outputs": [],
   "source": [
    "df.drop_duplicates(subset=['TransactionNumber'], inplace=True)"
   ]
  },
  {
   "cell_type": "code",
   "execution_count": 390,
   "metadata": {},
   "outputs": [
    {
     "data": {
      "text/plain": [
       "0          70\n",
       "1        3386\n",
       "2        2971\n",
       "3        2925\n",
       "4        2339\n",
       "         ... \n",
       "10961    3632\n",
       "10962    3925\n",
       "10963    4811\n",
       "10964    1110\n",
       "10965    3608\n",
       "Name: UserID, Length: 10923, dtype: int64"
      ]
     },
     "execution_count": 390,
     "metadata": {},
     "output_type": "execute_result"
    }
   ],
   "source": [
    "df.UserID #integer, no negative values"
   ]
  },
  {
   "cell_type": "code",
   "execution_count": 391,
   "metadata": {},
   "outputs": [],
   "source": [
    "df.drop_duplicates(subset=['UserID'], inplace=True)"
   ]
  },
  {
   "cell_type": "code",
   "execution_count": 392,
   "metadata": {},
   "outputs": [
    {
     "data": {
      "text/plain": [
       "13      -24\n",
       "43      -43\n",
       "47      -29\n",
       "60      -47\n",
       "72      -49\n",
       "         ..\n",
       "9925    -47\n",
       "10048   -46\n",
       "10056   -48\n",
       "10484   -38\n",
       "10906   -46\n",
       "Name: Age, Length: 349, dtype: int64"
      ]
     },
     "execution_count": 392,
     "metadata": {},
     "output_type": "execute_result"
    }
   ],
   "source": [
    "# Checking the age column\n",
    "\n",
    "df.Age[df.Age < 18]"
   ]
  },
  {
   "cell_type": "code",
   "execution_count": 393,
   "metadata": {},
   "outputs": [
    {
     "data": {
      "text/plain": [
       "Series([], Name: Age, dtype: int64)"
      ]
     },
     "execution_count": 393,
     "metadata": {},
     "output_type": "execute_result"
    }
   ],
   "source": [
    "# Checking the age column\n",
    "\n",
    "df.Age[(df.Age < 18) & (df.Age > 0)]\n"
   ]
  },
  {
   "cell_type": "code",
   "execution_count": 394,
   "metadata": {},
   "outputs": [],
   "source": [
    "df = df.drop(df[df.Age < 0].index)"
   ]
  },
  {
   "cell_type": "code",
   "execution_count": 395,
   "metadata": {},
   "outputs": [
    {
     "data": {
      "text/plain": [
       "Gender\n",
       "Male           1775\n",
       "Female         1682\n",
       "he              108\n",
       "man             101\n",
       "isnotfemale      87\n",
       "woman            85\n",
       "fem              79\n",
       "she              73\n",
       "isnotmale        67\n",
       "Name: count, dtype: int64"
      ]
     },
     "execution_count": 395,
     "metadata": {},
     "output_type": "execute_result"
    }
   ],
   "source": [
    "# Check Gender column\n",
    "\n",
    "df.Gender.value_counts()"
   ]
  },
  {
   "cell_type": "code",
   "execution_count": 396,
   "metadata": {},
   "outputs": [
    {
     "name": "stderr",
     "output_type": "stream",
     "text": [
      "C:\\Users\\pogiz\\AppData\\Local\\Temp\\ipykernel_20728\\2389604150.py:1: FutureWarning: ChainedAssignmentError: behaviour will change in pandas 3.0!\n",
      "You are setting values through chained assignment. Currently this works in certain cases, but when using Copy-on-Write (which will become the default behaviour in pandas 3.0) this will never work to update the original DataFrame or Series, because the intermediate object on which we are setting values will behave as a copy.\n",
      "A typical example is when you are setting values in a column of a DataFrame, like:\n",
      "\n",
      "df[\"col\"][row_indexer] = value\n",
      "\n",
      "Use `df.loc[row_indexer, \"col\"] = values` instead, to perform the assignment in a single step and ensure this keeps updating the original `df`.\n",
      "\n",
      "See the caveats in the documentation: https://pandas.pydata.org/pandas-docs/stable/user_guide/indexing.html#returning-a-view-versus-a-copy\n",
      "\n",
      "  df.Gender[(df['Gender'] == 'man') | (df[\"Gender\"] == 'he')] = 'Male' # !!! Fix Warning !!!\n",
      "C:\\Users\\pogiz\\AppData\\Local\\Temp\\ipykernel_20728\\2389604150.py:1: SettingWithCopyWarning: \n",
      "A value is trying to be set on a copy of a slice from a DataFrame\n",
      "\n",
      "See the caveats in the documentation: https://pandas.pydata.org/pandas-docs/stable/user_guide/indexing.html#returning-a-view-versus-a-copy\n",
      "  df.Gender[(df['Gender'] == 'man') | (df[\"Gender\"] == 'he')] = 'Male' # !!! Fix Warning !!!\n"
     ]
    }
   ],
   "source": [
    "df.Gender[(df['Gender'] == 'man') | (df[\"Gender\"] == 'he')] = 'Male' # !!! Fix Warning !!!"
   ]
  },
  {
   "cell_type": "code",
   "execution_count": 397,
   "metadata": {},
   "outputs": [
    {
     "name": "stderr",
     "output_type": "stream",
     "text": [
      "C:\\Users\\pogiz\\AppData\\Local\\Temp\\ipykernel_20728\\249712640.py:1: FutureWarning: ChainedAssignmentError: behaviour will change in pandas 3.0!\n",
      "You are setting values through chained assignment. Currently this works in certain cases, but when using Copy-on-Write (which will become the default behaviour in pandas 3.0) this will never work to update the original DataFrame or Series, because the intermediate object on which we are setting values will behave as a copy.\n",
      "A typical example is when you are setting values in a column of a DataFrame, like:\n",
      "\n",
      "df[\"col\"][row_indexer] = value\n",
      "\n",
      "Use `df.loc[row_indexer, \"col\"] = values` instead, to perform the assignment in a single step and ensure this keeps updating the original `df`.\n",
      "\n",
      "See the caveats in the documentation: https://pandas.pydata.org/pandas-docs/stable/user_guide/indexing.html#returning-a-view-versus-a-copy\n",
      "\n",
      "  df.Gender[(df['Gender'] == 'woman') | (df[\"Gender\"] == 'fem') | (df[\"Gender\"] == 'she')] = 'Female'\n",
      "C:\\Users\\pogiz\\AppData\\Local\\Temp\\ipykernel_20728\\249712640.py:1: SettingWithCopyWarning: \n",
      "A value is trying to be set on a copy of a slice from a DataFrame\n",
      "\n",
      "See the caveats in the documentation: https://pandas.pydata.org/pandas-docs/stable/user_guide/indexing.html#returning-a-view-versus-a-copy\n",
      "  df.Gender[(df['Gender'] == 'woman') | (df[\"Gender\"] == 'fem') | (df[\"Gender\"] == 'she')] = 'Female'\n"
     ]
    }
   ],
   "source": [
    "df.Gender[(df['Gender'] == 'woman') | (df[\"Gender\"] == 'fem') | (df[\"Gender\"] == 'she')] = 'Female'"
   ]
  },
  {
   "cell_type": "code",
   "execution_count": 398,
   "metadata": {},
   "outputs": [],
   "source": [
    "df = df.drop(df[(df.Gender  == 'isnotfemale') | (df.Gender == 'isnotmale')].index)"
   ]
  },
  {
   "cell_type": "code",
   "execution_count": 399,
   "metadata": {},
   "outputs": [
    {
     "data": {
      "text/plain": [
       "Gender\n",
       "Male      1984\n",
       "Female    1919\n",
       "Name: count, dtype: int64"
      ]
     },
     "execution_count": 399,
     "metadata": {},
     "output_type": "execute_result"
    }
   ],
   "source": [
    "# Check Gender column\n",
    "\n",
    "df.Gender.value_counts()"
   ]
  },
  {
   "cell_type": "code",
   "execution_count": 400,
   "metadata": {},
   "outputs": [
    {
     "data": {
      "text/plain": [
       "Occupation\n",
       "Professional    1889\n",
       "Student         1199\n",
       "Unemployed       420\n",
       "Retired          395\n",
       "Name: count, dtype: int64"
      ]
     },
     "execution_count": 400,
     "metadata": {},
     "output_type": "execute_result"
    }
   ],
   "source": [
    "# Check occupation\n",
    "\n",
    "df.Occupation.value_counts() # all good"
   ]
  },
  {
   "cell_type": "code",
   "execution_count": 401,
   "metadata": {},
   "outputs": [
    {
     "data": {
      "text/plain": [
       "EducationLevel\n",
       "Bachelor       1545\n",
       "High School    1529\n",
       "Master          610\n",
       "PhD             219\n",
       "Name: count, dtype: int64"
      ]
     },
     "execution_count": 401,
     "metadata": {},
     "output_type": "execute_result"
    }
   ],
   "source": [
    "df.EducationLevel.value_counts() # all good"
   ]
  },
  {
   "cell_type": "code",
   "execution_count": 402,
   "metadata": {},
   "outputs": [
    {
     "data": {
      "text/plain": [
       "0        3\n",
       "1        4\n",
       "2        2\n",
       "3        3\n",
       "4        4\n",
       "        ..\n",
       "10921    4\n",
       "10923    0\n",
       "10929    3\n",
       "10952    1\n",
       "10957    3\n",
       "Name: NumDependents, Length: 3903, dtype: int64"
      ]
     },
     "execution_count": 402,
     "metadata": {},
     "output_type": "execute_result"
    }
   ],
   "source": [
    "df.NumDependents # int no negative"
   ]
  },
  {
   "cell_type": "code",
   "execution_count": 403,
   "metadata": {},
   "outputs": [
    {
     "data": {
      "text/html": [
       "<div>\n",
       "<style scoped>\n",
       "    .dataframe tbody tr th:only-of-type {\n",
       "        vertical-align: middle;\n",
       "    }\n",
       "\n",
       "    .dataframe tbody tr th {\n",
       "        vertical-align: top;\n",
       "    }\n",
       "\n",
       "    .dataframe thead th {\n",
       "        text-align: right;\n",
       "    }\n",
       "</style>\n",
       "<table border=\"1\" class=\"dataframe\">\n",
       "  <thead>\n",
       "    <tr style=\"text-align: right;\">\n",
       "      <th></th>\n",
       "      <th>TransactionNumber</th>\n",
       "      <th>UserID</th>\n",
       "      <th>Age</th>\n",
       "      <th>Gender</th>\n",
       "      <th>Occupation</th>\n",
       "      <th>EducationLevel</th>\n",
       "      <th>MaritalStatus</th>\n",
       "      <th>NumDependents</th>\n",
       "      <th>Income</th>\n",
       "      <th>Expenditure</th>\n",
       "      <th>GiftsTransaction</th>\n",
       "      <th>TransactionDate</th>\n",
       "      <th>TransactionTime</th>\n",
       "      <th>TransactionAmount</th>\n",
       "      <th>MerchantID</th>\n",
       "      <th>TransactionType</th>\n",
       "      <th>TransactionLocation</th>\n",
       "      <th>DeviceType</th>\n",
       "      <th>Latitude</th>\n",
       "      <th>Longitude</th>\n",
       "      <th>EmailDomain</th>\n",
       "      <th>Terrorism</th>\n",
       "      <th>UserTenure</th>\n",
       "      <th>IsFraud</th>\n",
       "    </tr>\n",
       "  </thead>\n",
       "  <tbody>\n",
       "    <tr>\n",
       "      <th>0</th>\n",
       "      <td>8765</td>\n",
       "      <td>70</td>\n",
       "      <td>37</td>\n",
       "      <td>Female</td>\n",
       "      <td>Professional</td>\n",
       "      <td>Bachelor</td>\n",
       "      <td>Widowed</td>\n",
       "      <td>3</td>\n",
       "      <td>28884.43 AUD</td>\n",
       "      <td>14610.61 AUD</td>\n",
       "      <td>£ 1050.01</td>\n",
       "      <td>2023-03-12</td>\n",
       "      <td>12:25:57</td>\n",
       "      <td>AU$ 258.14</td>\n",
       "      <td>M006</td>\n",
       "      <td>Withdrawal</td>\n",
       "      <td>Adelaide</td>\n",
       "      <td>Mobile</td>\n",
       "      <td>-31.840233</td>\n",
       "      <td>145.612793</td>\n",
       "      <td>jon44@disposable.com</td>\n",
       "      <td>False</td>\n",
       "      <td>113</td>\n",
       "      <td>1</td>\n",
       "    </tr>\n",
       "    <tr>\n",
       "      <th>1</th>\n",
       "      <td>9645</td>\n",
       "      <td>3386</td>\n",
       "      <td>34</td>\n",
       "      <td>Male</td>\n",
       "      <td>Student</td>\n",
       "      <td>High School</td>\n",
       "      <td>Married</td>\n",
       "      <td>4</td>\n",
       "      <td>AU$ 54919.07</td>\n",
       "      <td>39169.49 AUD</td>\n",
       "      <td>£ 4969.71</td>\n",
       "      <td>2023-03-05</td>\n",
       "      <td>18:27:24</td>\n",
       "      <td>34.94 AUD</td>\n",
       "      <td>M002</td>\n",
       "      <td>Withdrawal</td>\n",
       "      <td>Canberra</td>\n",
       "      <td>Mobile</td>\n",
       "      <td>-37.020100</td>\n",
       "      <td>144.964600</td>\n",
       "      <td>emilyreese@gmail.com</td>\n",
       "      <td>False</td>\n",
       "      <td>104</td>\n",
       "      <td>1</td>\n",
       "    </tr>\n",
       "    <tr>\n",
       "      <th>2</th>\n",
       "      <td>1145</td>\n",
       "      <td>2971</td>\n",
       "      <td>25</td>\n",
       "      <td>Male</td>\n",
       "      <td>Unemployed</td>\n",
       "      <td>Master</td>\n",
       "      <td>Married</td>\n",
       "      <td>2</td>\n",
       "      <td>AU$ 74728.57</td>\n",
       "      <td>55873.76 AUD</td>\n",
       "      <td>£ 1149.85</td>\n",
       "      <td>2023-11-10</td>\n",
       "      <td>17:16:56</td>\n",
       "      <td>AU$ 323.82</td>\n",
       "      <td>M008</td>\n",
       "      <td>Purchase</td>\n",
       "      <td>Brisbane</td>\n",
       "      <td>Mobile</td>\n",
       "      <td>-31.840233</td>\n",
       "      <td>145.612793</td>\n",
       "      <td>fordevan@gmail.com</td>\n",
       "      <td>False</td>\n",
       "      <td>105</td>\n",
       "      <td>0</td>\n",
       "    </tr>\n",
       "    <tr>\n",
       "      <th>3</th>\n",
       "      <td>15308</td>\n",
       "      <td>2925</td>\n",
       "      <td>25</td>\n",
       "      <td>Male</td>\n",
       "      <td>Professional</td>\n",
       "      <td>High School</td>\n",
       "      <td>Married</td>\n",
       "      <td>3</td>\n",
       "      <td>AU$ 55712.62</td>\n",
       "      <td>AED 89649.04</td>\n",
       "      <td>AU$ 4335.7</td>\n",
       "      <td>2023-10-07</td>\n",
       "      <td>00/34/17</td>\n",
       "      <td>AED 32.49</td>\n",
       "      <td>M001</td>\n",
       "      <td>Purchase</td>\n",
       "      <td>Darwin</td>\n",
       "      <td>iphone 15</td>\n",
       "      <td>-37.020100</td>\n",
       "      <td>144.964600</td>\n",
       "      <td>kathleenlewis@tempmail.com</td>\n",
       "      <td>False</td>\n",
       "      <td>70</td>\n",
       "      <td>1</td>\n",
       "    </tr>\n",
       "    <tr>\n",
       "      <th>4</th>\n",
       "      <td>14967</td>\n",
       "      <td>2339</td>\n",
       "      <td>38</td>\n",
       "      <td>Male</td>\n",
       "      <td>Professional</td>\n",
       "      <td>High School</td>\n",
       "      <td>Single</td>\n",
       "      <td>4</td>\n",
       "      <td>53004.7 AUD</td>\n",
       "      <td>AED 43601.02</td>\n",
       "      <td>4763.48 AUD</td>\n",
       "      <td>2023-09-22</td>\n",
       "      <td>06:40:08 PM</td>\n",
       "      <td>1140.75 AED</td>\n",
       "      <td>M001</td>\n",
       "      <td>Withdrawal</td>\n",
       "      <td>MLB</td>\n",
       "      <td>Tablet</td>\n",
       "      <td>-37.020100</td>\n",
       "      <td>144.964600</td>\n",
       "      <td>kristinawhite@gmail.com</td>\n",
       "      <td>False</td>\n",
       "      <td>27</td>\n",
       "      <td>0</td>\n",
       "    </tr>\n",
       "  </tbody>\n",
       "</table>\n",
       "</div>"
      ],
      "text/plain": [
       "   TransactionNumber  UserID  Age  Gender    Occupation EducationLevel  \\\n",
       "0               8765      70   37  Female  Professional       Bachelor   \n",
       "1               9645    3386   34    Male       Student    High School   \n",
       "2               1145    2971   25    Male    Unemployed         Master   \n",
       "3              15308    2925   25    Male  Professional    High School   \n",
       "4              14967    2339   38    Male  Professional    High School   \n",
       "\n",
       "  MaritalStatus  NumDependents        Income   Expenditure GiftsTransaction  \\\n",
       "0       Widowed              3  28884.43 AUD  14610.61 AUD        £ 1050.01   \n",
       "1       Married              4  AU$ 54919.07  39169.49 AUD        £ 4969.71   \n",
       "2       Married              2  AU$ 74728.57  55873.76 AUD        £ 1149.85   \n",
       "3       Married              3  AU$ 55712.62  AED 89649.04       AU$ 4335.7   \n",
       "4        Single              4   53004.7 AUD  AED 43601.02      4763.48 AUD   \n",
       "\n",
       "  TransactionDate TransactionTime TransactionAmount MerchantID  \\\n",
       "0      2023-03-12        12:25:57        AU$ 258.14       M006   \n",
       "1      2023-03-05        18:27:24         34.94 AUD       M002   \n",
       "2      2023-11-10        17:16:56        AU$ 323.82       M008   \n",
       "3      2023-10-07        00/34/17         AED 32.49       M001   \n",
       "4      2023-09-22     06:40:08 PM       1140.75 AED       M001   \n",
       "\n",
       "  TransactionType TransactionLocation DeviceType   Latitude   Longitude  \\\n",
       "0      Withdrawal            Adelaide     Mobile -31.840233  145.612793   \n",
       "1      Withdrawal            Canberra     Mobile -37.020100  144.964600   \n",
       "2        Purchase            Brisbane     Mobile -31.840233  145.612793   \n",
       "3        Purchase              Darwin  iphone 15 -37.020100  144.964600   \n",
       "4      Withdrawal                 MLB     Tablet -37.020100  144.964600   \n",
       "\n",
       "                  EmailDomain  Terrorism  UserTenure  IsFraud  \n",
       "0        jon44@disposable.com      False         113        1  \n",
       "1        emilyreese@gmail.com      False         104        1  \n",
       "2          fordevan@gmail.com      False         105        0  \n",
       "3  kathleenlewis@tempmail.com      False          70        1  \n",
       "4     kristinawhite@gmail.com      False          27        0  "
      ]
     },
     "execution_count": 403,
     "metadata": {},
     "output_type": "execute_result"
    }
   ],
   "source": [
    "df.head()"
   ]
  },
  {
   "cell_type": "code",
   "execution_count": 404,
   "metadata": {},
   "outputs": [
    {
     "name": "stderr",
     "output_type": "stream",
     "text": [
      "<>:3: SyntaxWarning: invalid escape sequence '\\$'\n",
      "<>:3: SyntaxWarning: invalid escape sequence '\\$'\n",
      "C:\\Users\\pogiz\\AppData\\Local\\Temp\\ipykernel_20728\\2173534728.py:3: SyntaxWarning: invalid escape sequence '\\$'\n",
      "  income_tmp = income_tmp.replace('AU\\$','', regex=True)\n"
     ]
    },
    {
     "data": {
      "text/plain": [
       "0        28884.43\n",
       "1        54919.07\n",
       "2        74728.57\n",
       "3        55712.62\n",
       "4        53004.70\n",
       "           ...   \n",
       "10921    74835.82\n",
       "10923    86312.26\n",
       "10929    50836.99\n",
       "10952    64400.78\n",
       "10957    32580.76\n",
       "Name: Income, Length: 3903, dtype: float64"
      ]
     },
     "execution_count": 404,
     "metadata": {},
     "output_type": "execute_result"
    }
   ],
   "source": [
    "income_tmp = df.Income\n",
    "income_tmp = income_tmp.replace('AUD','', regex=True) # Only in AUD\n",
    "income_tmp = income_tmp.replace('AU\\$','', regex=True)\n",
    "income_tmp = income_tmp.astype(float)\n",
    "income_tmp"
   ]
  },
  {
   "cell_type": "code",
   "execution_count": 405,
   "metadata": {},
   "outputs": [],
   "source": [
    "df.Income = income_tmp"
   ]
  },
  {
   "cell_type": "code",
   "execution_count": 406,
   "metadata": {},
   "outputs": [
    {
     "name": "stderr",
     "output_type": "stream",
     "text": [
      "<>:3: SyntaxWarning: invalid escape sequence '\\$'\n",
      "<>:3: SyntaxWarning: invalid escape sequence '\\$'\n",
      "C:\\Users\\pogiz\\AppData\\Local\\Temp\\ipykernel_20728\\2999303378.py:3: SyntaxWarning: invalid escape sequence '\\$'\n",
      "  exp_tmp = exp_tmp.replace('AU\\$','', regex=True)\n"
     ]
    },
    {
     "data": {
      "text/plain": [
       "0        14610.61\n",
       "1        39169.49\n",
       "2        55873.76\n",
       "3        89649.04\n",
       "4        43601.02\n",
       "           ...   \n",
       "10921    45101.32\n",
       "10923    48357.47\n",
       "10929    29800.75\n",
       "10952    30010.69\n",
       "10957    14882.96\n",
       "Name: Expenditure, Length: 3903, dtype: float64"
      ]
     },
     "execution_count": 406,
     "metadata": {},
     "output_type": "execute_result"
    }
   ],
   "source": [
    "exp_tmp = df.Expenditure\n",
    "exp_tmp = exp_tmp.replace('AUD','', regex=True) # Only in AUD\n",
    "exp_tmp = exp_tmp.replace('AU\\$','', regex=True)\n",
    "exp_tmp = exp_tmp.replace('AED','', regex=True)\n",
    "exp_tmp = exp_tmp.astype(float)\n",
    "exp_tmp"
   ]
  },
  {
   "cell_type": "code",
   "execution_count": 407,
   "metadata": {},
   "outputs": [],
   "source": [
    "df.Expenditure = exp_tmp"
   ]
  },
  {
   "cell_type": "code",
   "execution_count": 408,
   "metadata": {},
   "outputs": [
    {
     "name": "stderr",
     "output_type": "stream",
     "text": [
      "<>:4: SyntaxWarning: invalid escape sequence '\\d'\n",
      "<>:4: SyntaxWarning: invalid escape sequence '\\d'\n",
      "C:\\Users\\pogiz\\AppData\\Local\\Temp\\ipykernel_20728\\3981689156.py:4: SyntaxWarning: invalid escape sequence '\\d'\n",
      "  gift_tmp = gift_tmp.replace('\\d+', '', regex=True)\n"
     ]
    },
    {
     "data": {
      "text/plain": [
       "GiftsTransaction\n",
       ". GBP    1548\n",
       "£ .      1477\n",
       "AU$ .     443\n",
       ". AUD     435\n",
       "Name: count, dtype: int64"
      ]
     },
     "execution_count": 408,
     "metadata": {},
     "output_type": "execute_result"
    }
   ],
   "source": [
    "# Gifts transactions - seem to be in different currencies\n",
    "\n",
    "gift_tmp = df.GiftsTransaction\n",
    "gift_tmp = gift_tmp.replace('\\d+', '', regex=True)\n",
    "gift_tmp.value_counts() # Only used AUD and GBP"
   ]
  },
  {
   "cell_type": "code",
   "execution_count": 409,
   "metadata": {},
   "outputs": [
    {
     "name": "stderr",
     "output_type": "stream",
     "text": [
      "<>:4: SyntaxWarning: invalid escape sequence '\\$'\n",
      "<>:4: SyntaxWarning: invalid escape sequence '\\$'\n",
      "C:\\Users\\pogiz\\AppData\\Local\\Temp\\ipykernel_20728\\2426196164.py:4: SyntaxWarning: invalid escape sequence '\\$'\n",
      "  df['GiftsTransaction'] = df['GiftsTransaction'].replace('\\$', 'D', regex=True)\n"
     ]
    }
   ],
   "source": [
    "GB_list = ['GBP', '£']\n",
    "AD_list = ['AUD']\n",
    "\n",
    "df['GiftsTransaction'] = df['GiftsTransaction'].replace('\\$', 'D', regex=True)\n",
    "\n",
    "df.loc[df['GiftsTransaction'].str.contains('|'.join(GB_list)), 'GiftsCurrency'] = 'GBP'\n",
    "df.loc[df['GiftsTransaction'].str.contains('|'.join(AD_list)), 'GiftsCurrency'] = 'AUD'"
   ]
  },
  {
   "cell_type": "code",
   "execution_count": 410,
   "metadata": {},
   "outputs": [
    {
     "data": {
      "text/html": [
       "<div>\n",
       "<style scoped>\n",
       "    .dataframe tbody tr th:only-of-type {\n",
       "        vertical-align: middle;\n",
       "    }\n",
       "\n",
       "    .dataframe tbody tr th {\n",
       "        vertical-align: top;\n",
       "    }\n",
       "\n",
       "    .dataframe thead th {\n",
       "        text-align: right;\n",
       "    }\n",
       "</style>\n",
       "<table border=\"1\" class=\"dataframe\">\n",
       "  <thead>\n",
       "    <tr style=\"text-align: right;\">\n",
       "      <th></th>\n",
       "      <th>TransactionNumber</th>\n",
       "      <th>UserID</th>\n",
       "      <th>Age</th>\n",
       "      <th>Gender</th>\n",
       "      <th>Occupation</th>\n",
       "      <th>EducationLevel</th>\n",
       "      <th>MaritalStatus</th>\n",
       "      <th>NumDependents</th>\n",
       "      <th>Income</th>\n",
       "      <th>Expenditure</th>\n",
       "      <th>GiftsTransaction</th>\n",
       "      <th>TransactionDate</th>\n",
       "      <th>TransactionTime</th>\n",
       "      <th>TransactionAmount</th>\n",
       "      <th>MerchantID</th>\n",
       "      <th>TransactionType</th>\n",
       "      <th>TransactionLocation</th>\n",
       "      <th>DeviceType</th>\n",
       "      <th>Latitude</th>\n",
       "      <th>Longitude</th>\n",
       "      <th>EmailDomain</th>\n",
       "      <th>Terrorism</th>\n",
       "      <th>UserTenure</th>\n",
       "      <th>IsFraud</th>\n",
       "      <th>GiftsCurrency</th>\n",
       "    </tr>\n",
       "  </thead>\n",
       "  <tbody>\n",
       "    <tr>\n",
       "      <th>0</th>\n",
       "      <td>8765</td>\n",
       "      <td>70</td>\n",
       "      <td>37</td>\n",
       "      <td>Female</td>\n",
       "      <td>Professional</td>\n",
       "      <td>Bachelor</td>\n",
       "      <td>Widowed</td>\n",
       "      <td>3</td>\n",
       "      <td>28884.43</td>\n",
       "      <td>14610.61</td>\n",
       "      <td>£ 1050.01</td>\n",
       "      <td>2023-03-12</td>\n",
       "      <td>12:25:57</td>\n",
       "      <td>AU$ 258.14</td>\n",
       "      <td>M006</td>\n",
       "      <td>Withdrawal</td>\n",
       "      <td>Adelaide</td>\n",
       "      <td>Mobile</td>\n",
       "      <td>-31.840233</td>\n",
       "      <td>145.612793</td>\n",
       "      <td>jon44@disposable.com</td>\n",
       "      <td>False</td>\n",
       "      <td>113</td>\n",
       "      <td>1</td>\n",
       "      <td>GBP</td>\n",
       "    </tr>\n",
       "    <tr>\n",
       "      <th>1</th>\n",
       "      <td>9645</td>\n",
       "      <td>3386</td>\n",
       "      <td>34</td>\n",
       "      <td>Male</td>\n",
       "      <td>Student</td>\n",
       "      <td>High School</td>\n",
       "      <td>Married</td>\n",
       "      <td>4</td>\n",
       "      <td>54919.07</td>\n",
       "      <td>39169.49</td>\n",
       "      <td>£ 4969.71</td>\n",
       "      <td>2023-03-05</td>\n",
       "      <td>18:27:24</td>\n",
       "      <td>34.94 AUD</td>\n",
       "      <td>M002</td>\n",
       "      <td>Withdrawal</td>\n",
       "      <td>Canberra</td>\n",
       "      <td>Mobile</td>\n",
       "      <td>-37.020100</td>\n",
       "      <td>144.964600</td>\n",
       "      <td>emilyreese@gmail.com</td>\n",
       "      <td>False</td>\n",
       "      <td>104</td>\n",
       "      <td>1</td>\n",
       "      <td>GBP</td>\n",
       "    </tr>\n",
       "    <tr>\n",
       "      <th>2</th>\n",
       "      <td>1145</td>\n",
       "      <td>2971</td>\n",
       "      <td>25</td>\n",
       "      <td>Male</td>\n",
       "      <td>Unemployed</td>\n",
       "      <td>Master</td>\n",
       "      <td>Married</td>\n",
       "      <td>2</td>\n",
       "      <td>74728.57</td>\n",
       "      <td>55873.76</td>\n",
       "      <td>£ 1149.85</td>\n",
       "      <td>2023-11-10</td>\n",
       "      <td>17:16:56</td>\n",
       "      <td>AU$ 323.82</td>\n",
       "      <td>M008</td>\n",
       "      <td>Purchase</td>\n",
       "      <td>Brisbane</td>\n",
       "      <td>Mobile</td>\n",
       "      <td>-31.840233</td>\n",
       "      <td>145.612793</td>\n",
       "      <td>fordevan@gmail.com</td>\n",
       "      <td>False</td>\n",
       "      <td>105</td>\n",
       "      <td>0</td>\n",
       "      <td>GBP</td>\n",
       "    </tr>\n",
       "    <tr>\n",
       "      <th>3</th>\n",
       "      <td>15308</td>\n",
       "      <td>2925</td>\n",
       "      <td>25</td>\n",
       "      <td>Male</td>\n",
       "      <td>Professional</td>\n",
       "      <td>High School</td>\n",
       "      <td>Married</td>\n",
       "      <td>3</td>\n",
       "      <td>55712.62</td>\n",
       "      <td>89649.04</td>\n",
       "      <td>AUD 4335.7</td>\n",
       "      <td>2023-10-07</td>\n",
       "      <td>00/34/17</td>\n",
       "      <td>AED 32.49</td>\n",
       "      <td>M001</td>\n",
       "      <td>Purchase</td>\n",
       "      <td>Darwin</td>\n",
       "      <td>iphone 15</td>\n",
       "      <td>-37.020100</td>\n",
       "      <td>144.964600</td>\n",
       "      <td>kathleenlewis@tempmail.com</td>\n",
       "      <td>False</td>\n",
       "      <td>70</td>\n",
       "      <td>1</td>\n",
       "      <td>AUD</td>\n",
       "    </tr>\n",
       "    <tr>\n",
       "      <th>4</th>\n",
       "      <td>14967</td>\n",
       "      <td>2339</td>\n",
       "      <td>38</td>\n",
       "      <td>Male</td>\n",
       "      <td>Professional</td>\n",
       "      <td>High School</td>\n",
       "      <td>Single</td>\n",
       "      <td>4</td>\n",
       "      <td>53004.70</td>\n",
       "      <td>43601.02</td>\n",
       "      <td>4763.48 AUD</td>\n",
       "      <td>2023-09-22</td>\n",
       "      <td>06:40:08 PM</td>\n",
       "      <td>1140.75 AED</td>\n",
       "      <td>M001</td>\n",
       "      <td>Withdrawal</td>\n",
       "      <td>MLB</td>\n",
       "      <td>Tablet</td>\n",
       "      <td>-37.020100</td>\n",
       "      <td>144.964600</td>\n",
       "      <td>kristinawhite@gmail.com</td>\n",
       "      <td>False</td>\n",
       "      <td>27</td>\n",
       "      <td>0</td>\n",
       "      <td>AUD</td>\n",
       "    </tr>\n",
       "  </tbody>\n",
       "</table>\n",
       "</div>"
      ],
      "text/plain": [
       "   TransactionNumber  UserID  Age  Gender    Occupation EducationLevel  \\\n",
       "0               8765      70   37  Female  Professional       Bachelor   \n",
       "1               9645    3386   34    Male       Student    High School   \n",
       "2               1145    2971   25    Male    Unemployed         Master   \n",
       "3              15308    2925   25    Male  Professional    High School   \n",
       "4              14967    2339   38    Male  Professional    High School   \n",
       "\n",
       "  MaritalStatus  NumDependents    Income  Expenditure GiftsTransaction  \\\n",
       "0       Widowed              3  28884.43     14610.61        £ 1050.01   \n",
       "1       Married              4  54919.07     39169.49        £ 4969.71   \n",
       "2       Married              2  74728.57     55873.76        £ 1149.85   \n",
       "3       Married              3  55712.62     89649.04       AUD 4335.7   \n",
       "4        Single              4  53004.70     43601.02      4763.48 AUD   \n",
       "\n",
       "  TransactionDate TransactionTime TransactionAmount MerchantID  \\\n",
       "0      2023-03-12        12:25:57        AU$ 258.14       M006   \n",
       "1      2023-03-05        18:27:24         34.94 AUD       M002   \n",
       "2      2023-11-10        17:16:56        AU$ 323.82       M008   \n",
       "3      2023-10-07        00/34/17         AED 32.49       M001   \n",
       "4      2023-09-22     06:40:08 PM       1140.75 AED       M001   \n",
       "\n",
       "  TransactionType TransactionLocation DeviceType   Latitude   Longitude  \\\n",
       "0      Withdrawal            Adelaide     Mobile -31.840233  145.612793   \n",
       "1      Withdrawal            Canberra     Mobile -37.020100  144.964600   \n",
       "2        Purchase            Brisbane     Mobile -31.840233  145.612793   \n",
       "3        Purchase              Darwin  iphone 15 -37.020100  144.964600   \n",
       "4      Withdrawal                 MLB     Tablet -37.020100  144.964600   \n",
       "\n",
       "                  EmailDomain  Terrorism  UserTenure  IsFraud GiftsCurrency  \n",
       "0        jon44@disposable.com      False         113        1           GBP  \n",
       "1        emilyreese@gmail.com      False         104        1           GBP  \n",
       "2          fordevan@gmail.com      False         105        0           GBP  \n",
       "3  kathleenlewis@tempmail.com      False          70        1           AUD  \n",
       "4     kristinawhite@gmail.com      False          27        0           AUD  "
      ]
     },
     "execution_count": 410,
     "metadata": {},
     "output_type": "execute_result"
    }
   ],
   "source": [
    "df.head()"
   ]
  },
  {
   "cell_type": "code",
   "execution_count": 434,
   "metadata": {},
   "outputs": [
    {
     "data": {
      "text/plain": [
       "GiftsCurrency\n",
       "GBP    3025\n",
       "AUD     878\n",
       "Name: count, dtype: int64"
      ]
     },
     "execution_count": 434,
     "metadata": {},
     "output_type": "execute_result"
    }
   ],
   "source": [
    "df.GiftsCurrency.value_counts()"
   ]
  },
  {
   "cell_type": "code",
   "execution_count": 411,
   "metadata": {},
   "outputs": [
    {
     "name": "stderr",
     "output_type": "stream",
     "text": [
      "<>:2: SyntaxWarning: invalid escape sequence '\\$'\n",
      "<>:2: SyntaxWarning: invalid escape sequence '\\$'\n",
      "C:\\Users\\pogiz\\AppData\\Local\\Temp\\ipykernel_20728\\1400243320.py:2: SyntaxWarning: invalid escape sequence '\\$'\n",
      "  AD_list = ['AUD', 'AU\\$']\n"
     ]
    },
    {
     "data": {
      "text/plain": [
       "0        1050.01\n",
       "1        4969.71\n",
       "2        1149.85\n",
       "3        4335.70\n",
       "4        4763.48\n",
       "          ...   \n",
       "10921    1270.87\n",
       "10923    2009.35\n",
       "10929    1291.68\n",
       "10952     203.90\n",
       "10957     862.94\n",
       "Name: GiftsTransaction, Length: 3903, dtype: float64"
      ]
     },
     "execution_count": 411,
     "metadata": {},
     "output_type": "execute_result"
    }
   ],
   "source": [
    "GB_list = ['GBP', '£']\n",
    "AD_list = ['AUD', 'AU\\$']\n",
    "\n",
    "gft_tmp = df.GiftsTransaction\n",
    "gft_tmp = gft_tmp.replace(GB_list,'', regex=True)\n",
    "gft_tmp = gft_tmp.replace(AD_list,'', regex=True)\n",
    "gft_tmp = gft_tmp.astype(float)\n",
    "gft_tmp"
   ]
  },
  {
   "cell_type": "code",
   "execution_count": 412,
   "metadata": {},
   "outputs": [],
   "source": [
    "df.GiftsTransaction = gft_tmp"
   ]
  },
  {
   "cell_type": "code",
   "execution_count": 413,
   "metadata": {},
   "outputs": [
    {
     "data": {
      "text/html": [
       "<div>\n",
       "<style scoped>\n",
       "    .dataframe tbody tr th:only-of-type {\n",
       "        vertical-align: middle;\n",
       "    }\n",
       "\n",
       "    .dataframe tbody tr th {\n",
       "        vertical-align: top;\n",
       "    }\n",
       "\n",
       "    .dataframe thead th {\n",
       "        text-align: right;\n",
       "    }\n",
       "</style>\n",
       "<table border=\"1\" class=\"dataframe\">\n",
       "  <thead>\n",
       "    <tr style=\"text-align: right;\">\n",
       "      <th></th>\n",
       "      <th>TransactionNumber</th>\n",
       "      <th>UserID</th>\n",
       "      <th>Age</th>\n",
       "      <th>Gender</th>\n",
       "      <th>Occupation</th>\n",
       "      <th>EducationLevel</th>\n",
       "      <th>MaritalStatus</th>\n",
       "      <th>NumDependents</th>\n",
       "      <th>Income</th>\n",
       "      <th>Expenditure</th>\n",
       "      <th>GiftsTransaction</th>\n",
       "      <th>TransactionDate</th>\n",
       "      <th>TransactionTime</th>\n",
       "      <th>TransactionAmount</th>\n",
       "      <th>MerchantID</th>\n",
       "      <th>TransactionType</th>\n",
       "      <th>TransactionLocation</th>\n",
       "      <th>DeviceType</th>\n",
       "      <th>Latitude</th>\n",
       "      <th>Longitude</th>\n",
       "      <th>EmailDomain</th>\n",
       "      <th>Terrorism</th>\n",
       "      <th>UserTenure</th>\n",
       "      <th>IsFraud</th>\n",
       "      <th>GiftsCurrency</th>\n",
       "    </tr>\n",
       "  </thead>\n",
       "  <tbody>\n",
       "    <tr>\n",
       "      <th>0</th>\n",
       "      <td>8765</td>\n",
       "      <td>70</td>\n",
       "      <td>37</td>\n",
       "      <td>Female</td>\n",
       "      <td>Professional</td>\n",
       "      <td>Bachelor</td>\n",
       "      <td>Widowed</td>\n",
       "      <td>3</td>\n",
       "      <td>28884.43</td>\n",
       "      <td>14610.61</td>\n",
       "      <td>1050.01</td>\n",
       "      <td>2023-03-12</td>\n",
       "      <td>12:25:57</td>\n",
       "      <td>AU$ 258.14</td>\n",
       "      <td>M006</td>\n",
       "      <td>Withdrawal</td>\n",
       "      <td>Adelaide</td>\n",
       "      <td>Mobile</td>\n",
       "      <td>-31.840233</td>\n",
       "      <td>145.612793</td>\n",
       "      <td>jon44@disposable.com</td>\n",
       "      <td>False</td>\n",
       "      <td>113</td>\n",
       "      <td>1</td>\n",
       "      <td>GBP</td>\n",
       "    </tr>\n",
       "    <tr>\n",
       "      <th>1</th>\n",
       "      <td>9645</td>\n",
       "      <td>3386</td>\n",
       "      <td>34</td>\n",
       "      <td>Male</td>\n",
       "      <td>Student</td>\n",
       "      <td>High School</td>\n",
       "      <td>Married</td>\n",
       "      <td>4</td>\n",
       "      <td>54919.07</td>\n",
       "      <td>39169.49</td>\n",
       "      <td>4969.71</td>\n",
       "      <td>2023-03-05</td>\n",
       "      <td>18:27:24</td>\n",
       "      <td>34.94 AUD</td>\n",
       "      <td>M002</td>\n",
       "      <td>Withdrawal</td>\n",
       "      <td>Canberra</td>\n",
       "      <td>Mobile</td>\n",
       "      <td>-37.020100</td>\n",
       "      <td>144.964600</td>\n",
       "      <td>emilyreese@gmail.com</td>\n",
       "      <td>False</td>\n",
       "      <td>104</td>\n",
       "      <td>1</td>\n",
       "      <td>GBP</td>\n",
       "    </tr>\n",
       "    <tr>\n",
       "      <th>2</th>\n",
       "      <td>1145</td>\n",
       "      <td>2971</td>\n",
       "      <td>25</td>\n",
       "      <td>Male</td>\n",
       "      <td>Unemployed</td>\n",
       "      <td>Master</td>\n",
       "      <td>Married</td>\n",
       "      <td>2</td>\n",
       "      <td>74728.57</td>\n",
       "      <td>55873.76</td>\n",
       "      <td>1149.85</td>\n",
       "      <td>2023-11-10</td>\n",
       "      <td>17:16:56</td>\n",
       "      <td>AU$ 323.82</td>\n",
       "      <td>M008</td>\n",
       "      <td>Purchase</td>\n",
       "      <td>Brisbane</td>\n",
       "      <td>Mobile</td>\n",
       "      <td>-31.840233</td>\n",
       "      <td>145.612793</td>\n",
       "      <td>fordevan@gmail.com</td>\n",
       "      <td>False</td>\n",
       "      <td>105</td>\n",
       "      <td>0</td>\n",
       "      <td>GBP</td>\n",
       "    </tr>\n",
       "    <tr>\n",
       "      <th>3</th>\n",
       "      <td>15308</td>\n",
       "      <td>2925</td>\n",
       "      <td>25</td>\n",
       "      <td>Male</td>\n",
       "      <td>Professional</td>\n",
       "      <td>High School</td>\n",
       "      <td>Married</td>\n",
       "      <td>3</td>\n",
       "      <td>55712.62</td>\n",
       "      <td>89649.04</td>\n",
       "      <td>4335.70</td>\n",
       "      <td>2023-10-07</td>\n",
       "      <td>00/34/17</td>\n",
       "      <td>AED 32.49</td>\n",
       "      <td>M001</td>\n",
       "      <td>Purchase</td>\n",
       "      <td>Darwin</td>\n",
       "      <td>iphone 15</td>\n",
       "      <td>-37.020100</td>\n",
       "      <td>144.964600</td>\n",
       "      <td>kathleenlewis@tempmail.com</td>\n",
       "      <td>False</td>\n",
       "      <td>70</td>\n",
       "      <td>1</td>\n",
       "      <td>AUD</td>\n",
       "    </tr>\n",
       "    <tr>\n",
       "      <th>4</th>\n",
       "      <td>14967</td>\n",
       "      <td>2339</td>\n",
       "      <td>38</td>\n",
       "      <td>Male</td>\n",
       "      <td>Professional</td>\n",
       "      <td>High School</td>\n",
       "      <td>Single</td>\n",
       "      <td>4</td>\n",
       "      <td>53004.70</td>\n",
       "      <td>43601.02</td>\n",
       "      <td>4763.48</td>\n",
       "      <td>2023-09-22</td>\n",
       "      <td>06:40:08 PM</td>\n",
       "      <td>1140.75 AED</td>\n",
       "      <td>M001</td>\n",
       "      <td>Withdrawal</td>\n",
       "      <td>MLB</td>\n",
       "      <td>Tablet</td>\n",
       "      <td>-37.020100</td>\n",
       "      <td>144.964600</td>\n",
       "      <td>kristinawhite@gmail.com</td>\n",
       "      <td>False</td>\n",
       "      <td>27</td>\n",
       "      <td>0</td>\n",
       "      <td>AUD</td>\n",
       "    </tr>\n",
       "  </tbody>\n",
       "</table>\n",
       "</div>"
      ],
      "text/plain": [
       "   TransactionNumber  UserID  Age  Gender    Occupation EducationLevel  \\\n",
       "0               8765      70   37  Female  Professional       Bachelor   \n",
       "1               9645    3386   34    Male       Student    High School   \n",
       "2               1145    2971   25    Male    Unemployed         Master   \n",
       "3              15308    2925   25    Male  Professional    High School   \n",
       "4              14967    2339   38    Male  Professional    High School   \n",
       "\n",
       "  MaritalStatus  NumDependents    Income  Expenditure  GiftsTransaction  \\\n",
       "0       Widowed              3  28884.43     14610.61           1050.01   \n",
       "1       Married              4  54919.07     39169.49           4969.71   \n",
       "2       Married              2  74728.57     55873.76           1149.85   \n",
       "3       Married              3  55712.62     89649.04           4335.70   \n",
       "4        Single              4  53004.70     43601.02           4763.48   \n",
       "\n",
       "  TransactionDate TransactionTime TransactionAmount MerchantID  \\\n",
       "0      2023-03-12        12:25:57        AU$ 258.14       M006   \n",
       "1      2023-03-05        18:27:24         34.94 AUD       M002   \n",
       "2      2023-11-10        17:16:56        AU$ 323.82       M008   \n",
       "3      2023-10-07        00/34/17         AED 32.49       M001   \n",
       "4      2023-09-22     06:40:08 PM       1140.75 AED       M001   \n",
       "\n",
       "  TransactionType TransactionLocation DeviceType   Latitude   Longitude  \\\n",
       "0      Withdrawal            Adelaide     Mobile -31.840233  145.612793   \n",
       "1      Withdrawal            Canberra     Mobile -37.020100  144.964600   \n",
       "2        Purchase            Brisbane     Mobile -31.840233  145.612793   \n",
       "3        Purchase              Darwin  iphone 15 -37.020100  144.964600   \n",
       "4      Withdrawal                 MLB     Tablet -37.020100  144.964600   \n",
       "\n",
       "                  EmailDomain  Terrorism  UserTenure  IsFraud GiftsCurrency  \n",
       "0        jon44@disposable.com      False         113        1           GBP  \n",
       "1        emilyreese@gmail.com      False         104        1           GBP  \n",
       "2          fordevan@gmail.com      False         105        0           GBP  \n",
       "3  kathleenlewis@tempmail.com      False          70        1           AUD  \n",
       "4     kristinawhite@gmail.com      False          27        0           AUD  "
      ]
     },
     "execution_count": 413,
     "metadata": {},
     "output_type": "execute_result"
    }
   ],
   "source": [
    "df.head()"
   ]
  },
  {
   "cell_type": "code",
   "execution_count": 414,
   "metadata": {},
   "outputs": [
    {
     "name": "stderr",
     "output_type": "stream",
     "text": [
      "<>:3: SyntaxWarning: invalid escape sequence '\\d'\n",
      "<>:3: SyntaxWarning: invalid escape sequence '\\d'\n",
      "C:\\Users\\pogiz\\AppData\\Local\\Temp\\ipykernel_20728\\146948328.py:3: SyntaxWarning: invalid escape sequence '\\d'\n",
      "  time_tmp = time_tmp.replace('\\d+', '', regex=True)\n"
     ]
    },
    {
     "data": {
      "text/plain": [
       "TransactionDate\n",
       "--    3903\n",
       "Name: count, dtype: int64"
      ]
     },
     "execution_count": 414,
     "metadata": {},
     "output_type": "execute_result"
    }
   ],
   "source": [
    "# Date and Time\n",
    "time_tmp = df.TransactionDate\n",
    "time_tmp = time_tmp.replace('\\d+', '', regex=True)\n",
    "time_tmp.value_counts()"
   ]
  },
  {
   "cell_type": "code",
   "execution_count": 415,
   "metadata": {},
   "outputs": [
    {
     "name": "stderr",
     "output_type": "stream",
     "text": [
      "<>:2: SyntaxWarning: invalid escape sequence '\\d'\n",
      "<>:2: SyntaxWarning: invalid escape sequence '\\d'\n",
      "C:\\Users\\pogiz\\AppData\\Local\\Temp\\ipykernel_20728\\3018835517.py:2: SyntaxWarning: invalid escape sequence '\\d'\n",
      "  time_tmp = time_tmp.replace('\\d+', '', regex=True)\n"
     ]
    },
    {
     "data": {
      "text/plain": [
       "TransactionTime\n",
       "::       3117\n",
       "//        396\n",
       ":: PM     201\n",
       ":: AM     189\n",
       "Name: count, dtype: int64"
      ]
     },
     "execution_count": 415,
     "metadata": {},
     "output_type": "execute_result"
    }
   ],
   "source": [
    "time_tmp = df.TransactionTime\n",
    "time_tmp = time_tmp.replace('\\d+', '', regex=True)\n",
    "time_tmp.value_counts()"
   ]
  },
  {
   "cell_type": "code",
   "execution_count": 416,
   "metadata": {},
   "outputs": [
    {
     "name": "stderr",
     "output_type": "stream",
     "text": [
      "C:\\Users\\pogiz\\AppData\\Local\\Temp\\ipykernel_20728\\574423819.py:2: UserWarning: Could not infer format, so each element will be parsed individually, falling back to `dateutil`. To ensure parsing is consistent and as-expected, please specify a format.\n",
      "  df.TransactionTime =  pd.to_datetime(df.TransactionTime).dt.strftime('%H:%M:%S')\n"
     ]
    }
   ],
   "source": [
    "df.TransactionTime = df.TransactionTime.replace('/', ':', regex=True)\n",
    "df.TransactionTime =  pd.to_datetime(df.TransactionTime).dt.strftime('%H:%M:%S')"
   ]
  },
  {
   "cell_type": "code",
   "execution_count": 417,
   "metadata": {},
   "outputs": [
    {
     "name": "stderr",
     "output_type": "stream",
     "text": [
      "<>:2: SyntaxWarning: invalid escape sequence '\\d'\n",
      "<>:2: SyntaxWarning: invalid escape sequence '\\d'\n",
      "C:\\Users\\pogiz\\AppData\\Local\\Temp\\ipykernel_20728\\3018835517.py:2: SyntaxWarning: invalid escape sequence '\\d'\n",
      "  time_tmp = time_tmp.replace('\\d+', '', regex=True)\n"
     ]
    },
    {
     "data": {
      "text/plain": [
       "TransactionTime\n",
       "::    3903\n",
       "Name: count, dtype: int64"
      ]
     },
     "execution_count": 417,
     "metadata": {},
     "output_type": "execute_result"
    }
   ],
   "source": [
    "time_tmp = df.TransactionTime\n",
    "time_tmp = time_tmp.replace('\\d+', '', regex=True)\n",
    "time_tmp.value_counts()"
   ]
  },
  {
   "cell_type": "code",
   "execution_count": 418,
   "metadata": {},
   "outputs": [],
   "source": [
    "df['TransactionDatetime'] = df['TransactionDate'] + ' ' + df['TransactionTime']\n",
    "df['TransactionDatetime'] = pd.to_datetime(df['TransactionDatetime'])"
   ]
  },
  {
   "cell_type": "code",
   "execution_count": 419,
   "metadata": {},
   "outputs": [
    {
     "name": "stderr",
     "output_type": "stream",
     "text": [
      "<>:2: SyntaxWarning: invalid escape sequence '\\d'\n",
      "<>:2: SyntaxWarning: invalid escape sequence '\\d'\n",
      "C:\\Users\\pogiz\\AppData\\Local\\Temp\\ipykernel_20728\\1532584748.py:2: SyntaxWarning: invalid escape sequence '\\d'\n",
      "  trans_tmp = trans_tmp.replace('\\d+', '', regex=True)\n"
     ]
    },
    {
     "data": {
      "text/plain": [
       "TransactionAmount\n",
       "AU$ .    1523\n",
       ". AUD    1502\n",
       "AED .     446\n",
       ". AED     432\n",
       "Name: count, dtype: int64"
      ]
     },
     "execution_count": 419,
     "metadata": {},
     "output_type": "execute_result"
    }
   ],
   "source": [
    "trans_tmp = df.TransactionAmount\n",
    "trans_tmp = trans_tmp.replace('\\d+', '', regex=True)\n",
    "trans_tmp.value_counts()"
   ]
  },
  {
   "cell_type": "code",
   "execution_count": 420,
   "metadata": {},
   "outputs": [
    {
     "data": {
      "text/plain": [
       "MerchantID\n",
       "M006    518\n",
       "M007    512\n",
       "M008    507\n",
       "M005    496\n",
       "M004    495\n",
       "M002    483\n",
       "M001    461\n",
       "M003    431\n",
       "Name: count, dtype: int64"
      ]
     },
     "execution_count": 420,
     "metadata": {},
     "output_type": "execute_result"
    }
   ],
   "source": [
    "df.MerchantID.value_counts() # ok"
   ]
  },
  {
   "cell_type": "code",
   "execution_count": 421,
   "metadata": {},
   "outputs": [
    {
     "data": {
      "text/plain": [
       "TransactionType\n",
       "Purchase      1901\n",
       "Transfer       812\n",
       "Withdrawal     781\n",
       "Payment        409\n",
       "Name: count, dtype: int64"
      ]
     },
     "execution_count": 421,
     "metadata": {},
     "output_type": "execute_result"
    }
   ],
   "source": [
    "df.TransactionType.value_counts() #ok"
   ]
  },
  {
   "cell_type": "code",
   "execution_count": 422,
   "metadata": {},
   "outputs": [
    {
     "data": {
      "text/plain": [
       "TransactionLocation\n",
       "Darwin           505\n",
       "Adelaide         486\n",
       "Sydney           484\n",
       "Canberra         474\n",
       "Brisbane         473\n",
       "Hobart           470\n",
       "Perth            460\n",
       "Melbourne        349\n",
       "Mel               34\n",
       "Melb              33\n",
       "melbourne         27\n",
       "MLB               23\n",
       "Melburn           20\n",
       "Bne                8\n",
       "hobart             7\n",
       "Pth                5\n",
       "perth              5\n",
       "brisbane           5\n",
       "BNE                5\n",
       "canberra           4\n",
       "Syd                3\n",
       "adl                3\n",
       "DRW                3\n",
       "PTH                3\n",
       "Drw                2\n",
       "sydney             2\n",
       "Cbr                2\n",
       "Hbt                2\n",
       "Adelaide City      2\n",
       "Adl                1\n",
       "CBR                1\n",
       "darwin             1\n",
       "SYD                1\n",
       "Name: count, dtype: int64"
      ]
     },
     "execution_count": 422,
     "metadata": {},
     "output_type": "execute_result"
    }
   ],
   "source": [
    "df.TransactionLocation.value_counts()"
   ]
  },
  {
   "cell_type": "code",
   "execution_count": 423,
   "metadata": {},
   "outputs": [],
   "source": [
    "SYD = ['SYD', 'Syd', 'sydney']\n",
    "BNE = ['BNE', 'Bne', 'brisbane']\n",
    "PTH = ['Pth', 'perth', 'PTH']\n",
    "MLB = ['melbourne', 'Melb', 'Mel', 'Melburn', 'MLB']\n",
    "ADL = ['adl', 'Adl']\n",
    "DRW = ['DRW', 'Drw', 'darwin']\n",
    "HBT = ['hobart', 'HBT', 'Hbt']\n",
    "CBR = ['canberra', 'Cbr', 'CBR']\n",
    "\n",
    "df.loc[df['TransactionLocation'].isin(SYD), 'TransactionLocation'] = 'Sydney'\n",
    "df.loc[df['TransactionLocation'].isin(BNE), 'TransactionLocation'] = 'Brisbane'\n",
    "df.loc[df['TransactionLocation'].isin(PTH), 'TransactionLocation'] = 'Perth'\n",
    "df.loc[df['TransactionLocation'].isin(MLB), 'TransactionLocation'] = 'Melbourne'\n",
    "df.loc[df['TransactionLocation'].isin(ADL), 'TransactionLocation'] = 'Adelaide City'\n",
    "df.loc[df['TransactionLocation'].isin(DRW), 'TransactionLocation'] = 'Darwin'\n",
    "df.loc[df['TransactionLocation'].isin(HBT), 'TransactionLocation'] = 'Hobart'\n",
    "df.loc[df['TransactionLocation'].isin(CBR), 'TransactionLocation'] = 'Canberra'"
   ]
  },
  {
   "cell_type": "code",
   "execution_count": 424,
   "metadata": {},
   "outputs": [
    {
     "data": {
      "text/plain": [
       "TransactionLocation\n",
       "Darwin           511\n",
       "Brisbane         491\n",
       "Sydney           490\n",
       "Adelaide         486\n",
       "Melbourne        486\n",
       "Canberra         481\n",
       "Hobart           479\n",
       "Perth            473\n",
       "Adelaide City      6\n",
       "Name: count, dtype: int64"
      ]
     },
     "execution_count": 424,
     "metadata": {},
     "output_type": "execute_result"
    }
   ],
   "source": [
    "df.TransactionLocation.value_counts()"
   ]
  },
  {
   "cell_type": "code",
   "execution_count": 425,
   "metadata": {},
   "outputs": [
    {
     "data": {
      "text/html": [
       "<div>\n",
       "<style scoped>\n",
       "    .dataframe tbody tr th:only-of-type {\n",
       "        vertical-align: middle;\n",
       "    }\n",
       "\n",
       "    .dataframe tbody tr th {\n",
       "        vertical-align: top;\n",
       "    }\n",
       "\n",
       "    .dataframe thead th {\n",
       "        text-align: right;\n",
       "    }\n",
       "</style>\n",
       "<table border=\"1\" class=\"dataframe\">\n",
       "  <thead>\n",
       "    <tr style=\"text-align: right;\">\n",
       "      <th></th>\n",
       "      <th>TransactionNumber</th>\n",
       "      <th>UserID</th>\n",
       "      <th>Age</th>\n",
       "      <th>Gender</th>\n",
       "      <th>Occupation</th>\n",
       "      <th>EducationLevel</th>\n",
       "      <th>MaritalStatus</th>\n",
       "      <th>NumDependents</th>\n",
       "      <th>Income</th>\n",
       "      <th>Expenditure</th>\n",
       "      <th>GiftsTransaction</th>\n",
       "      <th>TransactionDate</th>\n",
       "      <th>TransactionTime</th>\n",
       "      <th>TransactionAmount</th>\n",
       "      <th>MerchantID</th>\n",
       "      <th>TransactionType</th>\n",
       "      <th>TransactionLocation</th>\n",
       "      <th>DeviceType</th>\n",
       "      <th>Latitude</th>\n",
       "      <th>Longitude</th>\n",
       "      <th>EmailDomain</th>\n",
       "      <th>Terrorism</th>\n",
       "      <th>UserTenure</th>\n",
       "      <th>IsFraud</th>\n",
       "      <th>GiftsCurrency</th>\n",
       "      <th>TransactionDatetime</th>\n",
       "    </tr>\n",
       "  </thead>\n",
       "  <tbody>\n",
       "    <tr>\n",
       "      <th>0</th>\n",
       "      <td>8765</td>\n",
       "      <td>70</td>\n",
       "      <td>37</td>\n",
       "      <td>Female</td>\n",
       "      <td>Professional</td>\n",
       "      <td>Bachelor</td>\n",
       "      <td>Widowed</td>\n",
       "      <td>3</td>\n",
       "      <td>28884.43</td>\n",
       "      <td>14610.61</td>\n",
       "      <td>1050.01</td>\n",
       "      <td>2023-03-12</td>\n",
       "      <td>12:25:57</td>\n",
       "      <td>AU$ 258.14</td>\n",
       "      <td>M006</td>\n",
       "      <td>Withdrawal</td>\n",
       "      <td>Adelaide</td>\n",
       "      <td>Mobile</td>\n",
       "      <td>-31.840233</td>\n",
       "      <td>145.612793</td>\n",
       "      <td>jon44@disposable.com</td>\n",
       "      <td>False</td>\n",
       "      <td>113</td>\n",
       "      <td>1</td>\n",
       "      <td>GBP</td>\n",
       "      <td>2023-03-12 12:25:57</td>\n",
       "    </tr>\n",
       "    <tr>\n",
       "      <th>1</th>\n",
       "      <td>9645</td>\n",
       "      <td>3386</td>\n",
       "      <td>34</td>\n",
       "      <td>Male</td>\n",
       "      <td>Student</td>\n",
       "      <td>High School</td>\n",
       "      <td>Married</td>\n",
       "      <td>4</td>\n",
       "      <td>54919.07</td>\n",
       "      <td>39169.49</td>\n",
       "      <td>4969.71</td>\n",
       "      <td>2023-03-05</td>\n",
       "      <td>18:27:24</td>\n",
       "      <td>34.94 AUD</td>\n",
       "      <td>M002</td>\n",
       "      <td>Withdrawal</td>\n",
       "      <td>Canberra</td>\n",
       "      <td>Mobile</td>\n",
       "      <td>-37.020100</td>\n",
       "      <td>144.964600</td>\n",
       "      <td>emilyreese@gmail.com</td>\n",
       "      <td>False</td>\n",
       "      <td>104</td>\n",
       "      <td>1</td>\n",
       "      <td>GBP</td>\n",
       "      <td>2023-03-05 18:27:24</td>\n",
       "    </tr>\n",
       "    <tr>\n",
       "      <th>2</th>\n",
       "      <td>1145</td>\n",
       "      <td>2971</td>\n",
       "      <td>25</td>\n",
       "      <td>Male</td>\n",
       "      <td>Unemployed</td>\n",
       "      <td>Master</td>\n",
       "      <td>Married</td>\n",
       "      <td>2</td>\n",
       "      <td>74728.57</td>\n",
       "      <td>55873.76</td>\n",
       "      <td>1149.85</td>\n",
       "      <td>2023-11-10</td>\n",
       "      <td>17:16:56</td>\n",
       "      <td>AU$ 323.82</td>\n",
       "      <td>M008</td>\n",
       "      <td>Purchase</td>\n",
       "      <td>Brisbane</td>\n",
       "      <td>Mobile</td>\n",
       "      <td>-31.840233</td>\n",
       "      <td>145.612793</td>\n",
       "      <td>fordevan@gmail.com</td>\n",
       "      <td>False</td>\n",
       "      <td>105</td>\n",
       "      <td>0</td>\n",
       "      <td>GBP</td>\n",
       "      <td>2023-11-10 17:16:56</td>\n",
       "    </tr>\n",
       "    <tr>\n",
       "      <th>3</th>\n",
       "      <td>15308</td>\n",
       "      <td>2925</td>\n",
       "      <td>25</td>\n",
       "      <td>Male</td>\n",
       "      <td>Professional</td>\n",
       "      <td>High School</td>\n",
       "      <td>Married</td>\n",
       "      <td>3</td>\n",
       "      <td>55712.62</td>\n",
       "      <td>89649.04</td>\n",
       "      <td>4335.70</td>\n",
       "      <td>2023-10-07</td>\n",
       "      <td>00:34:17</td>\n",
       "      <td>AED 32.49</td>\n",
       "      <td>M001</td>\n",
       "      <td>Purchase</td>\n",
       "      <td>Darwin</td>\n",
       "      <td>iphone 15</td>\n",
       "      <td>-37.020100</td>\n",
       "      <td>144.964600</td>\n",
       "      <td>kathleenlewis@tempmail.com</td>\n",
       "      <td>False</td>\n",
       "      <td>70</td>\n",
       "      <td>1</td>\n",
       "      <td>AUD</td>\n",
       "      <td>2023-10-07 00:34:17</td>\n",
       "    </tr>\n",
       "    <tr>\n",
       "      <th>4</th>\n",
       "      <td>14967</td>\n",
       "      <td>2339</td>\n",
       "      <td>38</td>\n",
       "      <td>Male</td>\n",
       "      <td>Professional</td>\n",
       "      <td>High School</td>\n",
       "      <td>Single</td>\n",
       "      <td>4</td>\n",
       "      <td>53004.70</td>\n",
       "      <td>43601.02</td>\n",
       "      <td>4763.48</td>\n",
       "      <td>2023-09-22</td>\n",
       "      <td>18:40:08</td>\n",
       "      <td>1140.75 AED</td>\n",
       "      <td>M001</td>\n",
       "      <td>Withdrawal</td>\n",
       "      <td>Melbourne</td>\n",
       "      <td>Tablet</td>\n",
       "      <td>-37.020100</td>\n",
       "      <td>144.964600</td>\n",
       "      <td>kristinawhite@gmail.com</td>\n",
       "      <td>False</td>\n",
       "      <td>27</td>\n",
       "      <td>0</td>\n",
       "      <td>AUD</td>\n",
       "      <td>2023-09-22 18:40:08</td>\n",
       "    </tr>\n",
       "  </tbody>\n",
       "</table>\n",
       "</div>"
      ],
      "text/plain": [
       "   TransactionNumber  UserID  Age  Gender    Occupation EducationLevel  \\\n",
       "0               8765      70   37  Female  Professional       Bachelor   \n",
       "1               9645    3386   34    Male       Student    High School   \n",
       "2               1145    2971   25    Male    Unemployed         Master   \n",
       "3              15308    2925   25    Male  Professional    High School   \n",
       "4              14967    2339   38    Male  Professional    High School   \n",
       "\n",
       "  MaritalStatus  NumDependents    Income  Expenditure  GiftsTransaction  \\\n",
       "0       Widowed              3  28884.43     14610.61           1050.01   \n",
       "1       Married              4  54919.07     39169.49           4969.71   \n",
       "2       Married              2  74728.57     55873.76           1149.85   \n",
       "3       Married              3  55712.62     89649.04           4335.70   \n",
       "4        Single              4  53004.70     43601.02           4763.48   \n",
       "\n",
       "  TransactionDate TransactionTime TransactionAmount MerchantID  \\\n",
       "0      2023-03-12        12:25:57        AU$ 258.14       M006   \n",
       "1      2023-03-05        18:27:24         34.94 AUD       M002   \n",
       "2      2023-11-10        17:16:56        AU$ 323.82       M008   \n",
       "3      2023-10-07        00:34:17         AED 32.49       M001   \n",
       "4      2023-09-22        18:40:08       1140.75 AED       M001   \n",
       "\n",
       "  TransactionType TransactionLocation DeviceType   Latitude   Longitude  \\\n",
       "0      Withdrawal            Adelaide     Mobile -31.840233  145.612793   \n",
       "1      Withdrawal            Canberra     Mobile -37.020100  144.964600   \n",
       "2        Purchase            Brisbane     Mobile -31.840233  145.612793   \n",
       "3        Purchase              Darwin  iphone 15 -37.020100  144.964600   \n",
       "4      Withdrawal           Melbourne     Tablet -37.020100  144.964600   \n",
       "\n",
       "                  EmailDomain  Terrorism  UserTenure  IsFraud GiftsCurrency  \\\n",
       "0        jon44@disposable.com      False         113        1           GBP   \n",
       "1        emilyreese@gmail.com      False         104        1           GBP   \n",
       "2          fordevan@gmail.com      False         105        0           GBP   \n",
       "3  kathleenlewis@tempmail.com      False          70        1           AUD   \n",
       "4     kristinawhite@gmail.com      False          27        0           AUD   \n",
       "\n",
       "  TransactionDatetime  \n",
       "0 2023-03-12 12:25:57  \n",
       "1 2023-03-05 18:27:24  \n",
       "2 2023-11-10 17:16:56  \n",
       "3 2023-10-07 00:34:17  \n",
       "4 2023-09-22 18:40:08  "
      ]
     },
     "execution_count": 425,
     "metadata": {},
     "output_type": "execute_result"
    }
   ],
   "source": [
    "df.head()"
   ]
  },
  {
   "cell_type": "code",
   "execution_count": 426,
   "metadata": {},
   "outputs": [
    {
     "data": {
      "text/plain": [
       "DeviceType\n",
       "Mobile        1793\n",
       "Desktop       1180\n",
       "Tablet         368\n",
       "android        120\n",
       "galaxys7       116\n",
       "iphone 15      115\n",
       "smartphone     115\n",
       "mob             96\n",
       "Name: count, dtype: int64"
      ]
     },
     "execution_count": 426,
     "metadata": {},
     "output_type": "execute_result"
    }
   ],
   "source": [
    "df.DeviceType.value_counts()"
   ]
  },
  {
   "cell_type": "code",
   "execution_count": 427,
   "metadata": {},
   "outputs": [],
   "source": [
    "Mob = ['galaxys7', 'iphone 15', 'android', 'mob', 'smartphone']\n",
    "\n",
    "df.loc[df['DeviceType'].isin(Mob), 'DeviceType'] = 'Mobile'"
   ]
  },
  {
   "cell_type": "code",
   "execution_count": 428,
   "metadata": {},
   "outputs": [
    {
     "data": {
      "text/plain": [
       "DeviceType\n",
       "Mobile     2355\n",
       "Desktop    1180\n",
       "Tablet      368\n",
       "Name: count, dtype: int64"
      ]
     },
     "execution_count": 428,
     "metadata": {},
     "output_type": "execute_result"
    }
   ],
   "source": [
    "df.DeviceType.value_counts()"
   ]
  },
  {
   "cell_type": "code",
   "execution_count": 429,
   "metadata": {},
   "outputs": [
    {
     "data": {
      "text/plain": [
       "0               jon44@disposable.com\n",
       "1               emilyreese@gmail.com\n",
       "2                 fordevan@gmail.com\n",
       "3         kathleenlewis@tempmail.com\n",
       "4            kristinawhite@gmail.com\n",
       "                    ...             \n",
       "10921         melaniereyes@gmail.com\n",
       "10923            anthony35@gmail.com\n",
       "10929             mdixon@outlook.com\n",
       "10952    jasminecastillo@outlook.com\n",
       "10957             fryharry@yahoo.com\n",
       "Name: EmailDomain, Length: 3903, dtype: object"
      ]
     },
     "execution_count": 429,
     "metadata": {},
     "output_type": "execute_result"
    }
   ],
   "source": [
    "df.EmailDomain # ok"
   ]
  },
  {
   "cell_type": "code",
   "execution_count": 430,
   "metadata": {},
   "outputs": [
    {
     "data": {
      "text/plain": [
       "Terrorism\n",
       "False    2698\n",
       "True     1205\n",
       "Name: count, dtype: int64"
      ]
     },
     "execution_count": 430,
     "metadata": {},
     "output_type": "execute_result"
    }
   ],
   "source": [
    "df.Terrorism.value_counts() # ok"
   ]
  },
  {
   "cell_type": "code",
   "execution_count": 431,
   "metadata": {},
   "outputs": [
    {
     "data": {
      "text/plain": [
       "0        113\n",
       "1        104\n",
       "2        105\n",
       "3         70\n",
       "4         27\n",
       "        ... \n",
       "10921     67\n",
       "10923     63\n",
       "10929     12\n",
       "10952     52\n",
       "10957     11\n",
       "Name: UserTenure, Length: 3903, dtype: int64"
      ]
     },
     "execution_count": 431,
     "metadata": {},
     "output_type": "execute_result"
    }
   ],
   "source": [
    "df.UserTenure # Integer, positive"
   ]
  },
  {
   "cell_type": "code",
   "execution_count": 432,
   "metadata": {},
   "outputs": [
    {
     "data": {
      "text/plain": [
       "IsFraud\n",
       "0    2474\n",
       "1    1429\n",
       "Name: count, dtype: int64"
      ]
     },
     "execution_count": 432,
     "metadata": {},
     "output_type": "execute_result"
    }
   ],
   "source": [
    "df.IsFraud.value_counts() #ok"
   ]
  },
  {
   "cell_type": "code",
   "execution_count": 433,
   "metadata": {},
   "outputs": [
    {
     "data": {
      "text/html": [
       "<div>\n",
       "<style scoped>\n",
       "    .dataframe tbody tr th:only-of-type {\n",
       "        vertical-align: middle;\n",
       "    }\n",
       "\n",
       "    .dataframe tbody tr th {\n",
       "        vertical-align: top;\n",
       "    }\n",
       "\n",
       "    .dataframe thead th {\n",
       "        text-align: right;\n",
       "    }\n",
       "</style>\n",
       "<table border=\"1\" class=\"dataframe\">\n",
       "  <thead>\n",
       "    <tr style=\"text-align: right;\">\n",
       "      <th></th>\n",
       "      <th>TransactionNumber</th>\n",
       "      <th>UserID</th>\n",
       "      <th>Age</th>\n",
       "      <th>Gender</th>\n",
       "      <th>Occupation</th>\n",
       "      <th>EducationLevel</th>\n",
       "      <th>MaritalStatus</th>\n",
       "      <th>NumDependents</th>\n",
       "      <th>Income</th>\n",
       "      <th>Expenditure</th>\n",
       "      <th>GiftsTransaction</th>\n",
       "      <th>TransactionDate</th>\n",
       "      <th>TransactionTime</th>\n",
       "      <th>TransactionAmount</th>\n",
       "      <th>MerchantID</th>\n",
       "      <th>TransactionType</th>\n",
       "      <th>TransactionLocation</th>\n",
       "      <th>DeviceType</th>\n",
       "      <th>Latitude</th>\n",
       "      <th>Longitude</th>\n",
       "      <th>EmailDomain</th>\n",
       "      <th>Terrorism</th>\n",
       "      <th>UserTenure</th>\n",
       "      <th>IsFraud</th>\n",
       "      <th>GiftsCurrency</th>\n",
       "      <th>TransactionDatetime</th>\n",
       "    </tr>\n",
       "  </thead>\n",
       "  <tbody>\n",
       "    <tr>\n",
       "      <th>0</th>\n",
       "      <td>8765</td>\n",
       "      <td>70</td>\n",
       "      <td>37</td>\n",
       "      <td>Female</td>\n",
       "      <td>Professional</td>\n",
       "      <td>Bachelor</td>\n",
       "      <td>Widowed</td>\n",
       "      <td>3</td>\n",
       "      <td>28884.43</td>\n",
       "      <td>14610.61</td>\n",
       "      <td>1050.01</td>\n",
       "      <td>2023-03-12</td>\n",
       "      <td>12:25:57</td>\n",
       "      <td>AU$ 258.14</td>\n",
       "      <td>M006</td>\n",
       "      <td>Withdrawal</td>\n",
       "      <td>Adelaide</td>\n",
       "      <td>Mobile</td>\n",
       "      <td>-31.840233</td>\n",
       "      <td>145.612793</td>\n",
       "      <td>jon44@disposable.com</td>\n",
       "      <td>False</td>\n",
       "      <td>113</td>\n",
       "      <td>1</td>\n",
       "      <td>GBP</td>\n",
       "      <td>2023-03-12 12:25:57</td>\n",
       "    </tr>\n",
       "    <tr>\n",
       "      <th>1</th>\n",
       "      <td>9645</td>\n",
       "      <td>3386</td>\n",
       "      <td>34</td>\n",
       "      <td>Male</td>\n",
       "      <td>Student</td>\n",
       "      <td>High School</td>\n",
       "      <td>Married</td>\n",
       "      <td>4</td>\n",
       "      <td>54919.07</td>\n",
       "      <td>39169.49</td>\n",
       "      <td>4969.71</td>\n",
       "      <td>2023-03-05</td>\n",
       "      <td>18:27:24</td>\n",
       "      <td>34.94 AUD</td>\n",
       "      <td>M002</td>\n",
       "      <td>Withdrawal</td>\n",
       "      <td>Canberra</td>\n",
       "      <td>Mobile</td>\n",
       "      <td>-37.020100</td>\n",
       "      <td>144.964600</td>\n",
       "      <td>emilyreese@gmail.com</td>\n",
       "      <td>False</td>\n",
       "      <td>104</td>\n",
       "      <td>1</td>\n",
       "      <td>GBP</td>\n",
       "      <td>2023-03-05 18:27:24</td>\n",
       "    </tr>\n",
       "    <tr>\n",
       "      <th>2</th>\n",
       "      <td>1145</td>\n",
       "      <td>2971</td>\n",
       "      <td>25</td>\n",
       "      <td>Male</td>\n",
       "      <td>Unemployed</td>\n",
       "      <td>Master</td>\n",
       "      <td>Married</td>\n",
       "      <td>2</td>\n",
       "      <td>74728.57</td>\n",
       "      <td>55873.76</td>\n",
       "      <td>1149.85</td>\n",
       "      <td>2023-11-10</td>\n",
       "      <td>17:16:56</td>\n",
       "      <td>AU$ 323.82</td>\n",
       "      <td>M008</td>\n",
       "      <td>Purchase</td>\n",
       "      <td>Brisbane</td>\n",
       "      <td>Mobile</td>\n",
       "      <td>-31.840233</td>\n",
       "      <td>145.612793</td>\n",
       "      <td>fordevan@gmail.com</td>\n",
       "      <td>False</td>\n",
       "      <td>105</td>\n",
       "      <td>0</td>\n",
       "      <td>GBP</td>\n",
       "      <td>2023-11-10 17:16:56</td>\n",
       "    </tr>\n",
       "    <tr>\n",
       "      <th>3</th>\n",
       "      <td>15308</td>\n",
       "      <td>2925</td>\n",
       "      <td>25</td>\n",
       "      <td>Male</td>\n",
       "      <td>Professional</td>\n",
       "      <td>High School</td>\n",
       "      <td>Married</td>\n",
       "      <td>3</td>\n",
       "      <td>55712.62</td>\n",
       "      <td>89649.04</td>\n",
       "      <td>4335.70</td>\n",
       "      <td>2023-10-07</td>\n",
       "      <td>00:34:17</td>\n",
       "      <td>AED 32.49</td>\n",
       "      <td>M001</td>\n",
       "      <td>Purchase</td>\n",
       "      <td>Darwin</td>\n",
       "      <td>Mobile</td>\n",
       "      <td>-37.020100</td>\n",
       "      <td>144.964600</td>\n",
       "      <td>kathleenlewis@tempmail.com</td>\n",
       "      <td>False</td>\n",
       "      <td>70</td>\n",
       "      <td>1</td>\n",
       "      <td>AUD</td>\n",
       "      <td>2023-10-07 00:34:17</td>\n",
       "    </tr>\n",
       "    <tr>\n",
       "      <th>4</th>\n",
       "      <td>14967</td>\n",
       "      <td>2339</td>\n",
       "      <td>38</td>\n",
       "      <td>Male</td>\n",
       "      <td>Professional</td>\n",
       "      <td>High School</td>\n",
       "      <td>Single</td>\n",
       "      <td>4</td>\n",
       "      <td>53004.70</td>\n",
       "      <td>43601.02</td>\n",
       "      <td>4763.48</td>\n",
       "      <td>2023-09-22</td>\n",
       "      <td>18:40:08</td>\n",
       "      <td>1140.75 AED</td>\n",
       "      <td>M001</td>\n",
       "      <td>Withdrawal</td>\n",
       "      <td>Melbourne</td>\n",
       "      <td>Tablet</td>\n",
       "      <td>-37.020100</td>\n",
       "      <td>144.964600</td>\n",
       "      <td>kristinawhite@gmail.com</td>\n",
       "      <td>False</td>\n",
       "      <td>27</td>\n",
       "      <td>0</td>\n",
       "      <td>AUD</td>\n",
       "      <td>2023-09-22 18:40:08</td>\n",
       "    </tr>\n",
       "  </tbody>\n",
       "</table>\n",
       "</div>"
      ],
      "text/plain": [
       "   TransactionNumber  UserID  Age  Gender    Occupation EducationLevel  \\\n",
       "0               8765      70   37  Female  Professional       Bachelor   \n",
       "1               9645    3386   34    Male       Student    High School   \n",
       "2               1145    2971   25    Male    Unemployed         Master   \n",
       "3              15308    2925   25    Male  Professional    High School   \n",
       "4              14967    2339   38    Male  Professional    High School   \n",
       "\n",
       "  MaritalStatus  NumDependents    Income  Expenditure  GiftsTransaction  \\\n",
       "0       Widowed              3  28884.43     14610.61           1050.01   \n",
       "1       Married              4  54919.07     39169.49           4969.71   \n",
       "2       Married              2  74728.57     55873.76           1149.85   \n",
       "3       Married              3  55712.62     89649.04           4335.70   \n",
       "4        Single              4  53004.70     43601.02           4763.48   \n",
       "\n",
       "  TransactionDate TransactionTime TransactionAmount MerchantID  \\\n",
       "0      2023-03-12        12:25:57        AU$ 258.14       M006   \n",
       "1      2023-03-05        18:27:24         34.94 AUD       M002   \n",
       "2      2023-11-10        17:16:56        AU$ 323.82       M008   \n",
       "3      2023-10-07        00:34:17         AED 32.49       M001   \n",
       "4      2023-09-22        18:40:08       1140.75 AED       M001   \n",
       "\n",
       "  TransactionType TransactionLocation DeviceType   Latitude   Longitude  \\\n",
       "0      Withdrawal            Adelaide     Mobile -31.840233  145.612793   \n",
       "1      Withdrawal            Canberra     Mobile -37.020100  144.964600   \n",
       "2        Purchase            Brisbane     Mobile -31.840233  145.612793   \n",
       "3        Purchase              Darwin     Mobile -37.020100  144.964600   \n",
       "4      Withdrawal           Melbourne     Tablet -37.020100  144.964600   \n",
       "\n",
       "                  EmailDomain  Terrorism  UserTenure  IsFraud GiftsCurrency  \\\n",
       "0        jon44@disposable.com      False         113        1           GBP   \n",
       "1        emilyreese@gmail.com      False         104        1           GBP   \n",
       "2          fordevan@gmail.com      False         105        0           GBP   \n",
       "3  kathleenlewis@tempmail.com      False          70        1           AUD   \n",
       "4     kristinawhite@gmail.com      False          27        0           AUD   \n",
       "\n",
       "  TransactionDatetime  \n",
       "0 2023-03-12 12:25:57  \n",
       "1 2023-03-05 18:27:24  \n",
       "2 2023-11-10 17:16:56  \n",
       "3 2023-10-07 00:34:17  \n",
       "4 2023-09-22 18:40:08  "
      ]
     },
     "execution_count": 433,
     "metadata": {},
     "output_type": "execute_result"
    }
   ],
   "source": [
    "df.head() #done"
   ]
  },
  {
   "cell_type": "code",
   "execution_count": 437,
   "metadata": {},
   "outputs": [],
   "source": [
    "df.to_csv('data_clean/train.csv')"
   ]
  },
  {
   "cell_type": "code",
   "execution_count": null,
   "metadata": {},
   "outputs": [],
   "source": []
  }
 ],
 "metadata": {
  "kernelspec": {
   "display_name": "base",
   "language": "python",
   "name": "python3"
  },
  "language_info": {
   "codemirror_mode": {
    "name": "ipython",
    "version": 3
   },
   "file_extension": ".py",
   "mimetype": "text/x-python",
   "name": "python",
   "nbconvert_exporter": "python",
   "pygments_lexer": "ipython3",
   "version": "3.12.3"
  }
 },
 "nbformat": 4,
 "nbformat_minor": 2
}
